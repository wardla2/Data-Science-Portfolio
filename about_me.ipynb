{
  "nbformat": 4,
  "nbformat_minor": 0,
  "metadata": {
    "colab": {
      "provenance": [],
      "authorship_tag": "ABX9TyMMxehhJRcT6LwGhfgGfI36",
      "include_colab_link": true
    },
    "kernelspec": {
      "name": "python3",
      "display_name": "Python 3"
    },
    "language_info": {
      "name": "python"
    }
  },
  "cells": [
    {
      "cell_type": "markdown",
      "metadata": {
        "id": "view-in-github",
        "colab_type": "text"
      },
      "source": [
        "<a href=\"https://colab.research.google.com/github/wardla2/Data-Science-Portfolio/blob/main/about_me.ipynb\" target=\"_parent\"><img src=\"https://colab.research.google.com/assets/colab-badge.svg\" alt=\"Open In Colab\"/></a>"
      ]
    },
    {
      "cell_type": "markdown",
      "source": [
        "# About me:"
      ],
      "metadata": {
        "id": "ZVqF4gHmTigh"
      }
    },
    {
      "cell_type": "markdown",
      "source": [
        "## Laura Ward, she / they\n"
      ],
      "metadata": {
        "id": "TT5Ng_skTbxU"
      }
    },
    {
      "cell_type": "markdown",
      "source": [
        "1. Why did you sign up for this bootcamp?\n",
        "*For fun! & because I'd like to use Data Science to interpret data sets for both cybersecurity and my non-profit project #nm-foodshed.*"
      ],
      "metadata": {
        "id": "YvBa6HfBULPa"
      }
    },
    {
      "cell_type": "markdown",
      "source": [
        "2. If you had your human body, but the head of an animal, what animal would you pick? *I'd have the head of a cow, please.*"
      ],
      "metadata": {
        "id": "7odLpIsLUsWK"
      }
    },
    {
      "cell_type": "markdown",
      "source": [
        "3. If you had to delete all but 3 apps from your smartphone, which ones would you keep? *Phone, Signal, & Oura.*"
      ],
      "metadata": {
        "id": "XML1poyjU9PD"
      }
    },
    {
      "cell_type": "markdown",
      "source": [
        "4. What are your favorite podcasts? *[NYT Daily](https://www.nytimes.com/column/the-daily), Huberman lab, &  TrueAnon.*"
      ],
      "metadata": {
        "id": "gEOxO4s4VbUd"
      }
    },
    {
      "cell_type": "markdown",
      "source": [
        "5. What sports/hobbies do you enjoy and why?\n",
        "\n",
        "*   Muay Thai\n",
        "*   Hanging out with my bantams\n",
        "\n",
        "![64px-Sebright_chicken.jpg](data:image/jpeg;base64,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)\n",
        "\n"
      ],
      "metadata": {
        "id": "7iL7WXdSWZAJ"
      }
    },
    {
      "cell_type": "markdown",
      "source": [
        "\\hobby | why?\n",
        "Muay Thai | Fun & hard!\n",
        "Chickens | Fun & easy!\n",
        "\\"
      ],
      "metadata": {
        "id": "pO4ApDYbb7iZ"
      }
    },
    {
      "cell_type": "code",
      "source": [
        "%quickref\n"
      ],
      "metadata": {
        "id": "sPhgRziicaiI"
      },
      "execution_count": 2,
      "outputs": []
    },
    {
      "cell_type": "code",
      "source": [
        "%magic -brief\n"
      ],
      "metadata": {
        "id": "HypYXbqPcgVS"
      },
      "execution_count": 3,
      "outputs": []
    },
    {
      "cell_type": "markdown",
      "source": [],
      "metadata": {
        "id": "aYqFnMkscf9Z"
      }
    }
  ]
}