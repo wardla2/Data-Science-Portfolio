{
  "cells": [
    {
      "cell_type": "markdown",
      "metadata": {
        "id": "view-in-github",
        "colab_type": "text"
      },
      "source": [
        "<a href=\"https://colab.research.google.com/github/wardla2/Data-Science-Portfolio/blob/main/Project_3/Completed_SQL_1_Chinook_project.ipynb\" target=\"_parent\"><img src=\"https://colab.research.google.com/assets/colab-badge.svg\" alt=\"Open In Colab\"/></a>"
      ]
    },
    {
      "cell_type": "markdown",
      "source": [
        "# Project SQL - Chinook"
      ],
      "metadata": {
        "id": "sRRCF11bRTFh"
      }
    },
    {
      "cell_type": "markdown",
      "metadata": {
        "id": "937JmwFgAGKv"
      },
      "source": [
        "## Chinook data set\n"
      ]
    },
    {
      "cell_type": "markdown",
      "metadata": {
        "id": "hWoL9F4P9rkL"
      },
      "source": [
        "### SQL in sqlite3"
      ]
    },
    {
      "cell_type": "code",
      "source": [
        "import sqlite3 as db\n",
        "import pandas as pd\n"
      ],
      "metadata": {
        "id": "HmecKkcqV9T1"
      },
      "execution_count": null,
      "outputs": []
    },
    {
      "cell_type": "code",
      "execution_count": null,
      "metadata": {
        "id": "65anBhbi11CF"
      },
      "outputs": [],
      "source": [
        "%%capture\n",
        "%%bash\n",
        "apt-get update\n",
        "apt-get install -y sqlite3\n"
      ]
    },
    {
      "cell_type": "code",
      "source": [
        "!sqlite3 --version"
      ],
      "metadata": {
        "id": "Td5EBZ445_k1",
        "colab": {
          "base_uri": "https://localhost:8080/"
        },
        "outputId": "53f0e303-8078-4da1-8a2f-3322ec8d95a0",
        "collapsed": true
      },
      "execution_count": null,
      "outputs": [
        {
          "output_type": "stream",
          "name": "stdout",
          "text": [
            "3.37.2 2022-01-06 13:25:41 872ba256cbf61d9290b571c0e6d82a20c224ca3ad82971edc46b29818d5dalt1\n"
          ]
        }
      ]
    },
    {
      "cell_type": "markdown",
      "metadata": {
        "id": "TsPmnPGpcgWD"
      },
      "source": [
        "### Sample database"
      ]
    },
    {
      "cell_type": "markdown",
      "metadata": {
        "id": "4BMzqqUncjUr"
      },
      "source": [
        "The [Chinook sample](https://www.sqlitetutorial.net/sqlite-sample-database/)\n",
        "\n",
        "- Zip file of [sqlite DB](https://www.sqlitetutorial.net/wp-content/uploads/2018/03/chinook.zip)\n",
        "\n",
        "- [ER diagram](https://www.sqlitetutorial.net/wp-content/uploads/2018/03/sqlite-sample-database-diagram-color.pdf)\n",
        "\n",
        "- [ER symbols/meanings](https://d2slcw3kip6qmk.cloudfront.net/marketing/pages/chart/erd-symbols/ERD-Notation.PNG)\n",
        "\n",
        "- [Draw IO](https://app.diagrams.net/) for creating ER diagrams, flowcharts, etc."
      ]
    },
    {
      "cell_type": "code",
      "execution_count": null,
      "metadata": {
        "id": "-cTtyfkTb00L",
        "colab": {
          "base_uri": "https://localhost:8080/"
        },
        "outputId": "c1e1bb33-247f-4197-9c77-7f3f64d3e296"
      },
      "outputs": [
        {
          "output_type": "stream",
          "name": "stdout",
          "text": [
            "Archive:  chinook.zip\n",
            "  Length      Date    Time    Name\n",
            "---------  ---------- -----   ----\n",
            "   884736  2015-11-29 10:53   chinook.db\n",
            "---------                     -------\n",
            "   884736                     1 file\n"
          ]
        }
      ],
      "source": [
        "%%bash\n",
        "[ -f chinook.zip ] ||\n",
        "  curl -s -O https://www.sqlitetutorial.net/wp-content/uploads/2018/03/chinook.zip\n",
        "unzip -l chinook.zip\n"
      ]
    },
    {
      "cell_type": "code",
      "source": [
        "!rm -f chinook.db\n"
      ],
      "metadata": {
        "id": "KQWwoiuEbBaB"
      },
      "execution_count": null,
      "outputs": []
    },
    {
      "cell_type": "code",
      "execution_count": null,
      "metadata": {
        "id": "_tB-o0FHctyU",
        "colab": {
          "base_uri": "https://localhost:8080/"
        },
        "outputId": "0fb58935-8206-44af-c824-0810c88f5100"
      },
      "outputs": [
        {
          "output_type": "stream",
          "name": "stdout",
          "text": [
            "Archive:  chinook.zip\n",
            "  inflating: chinook.db              \n"
          ]
        }
      ],
      "source": [
        "!unzip -u chinook.zip\n"
      ]
    },
    {
      "cell_type": "code",
      "source": [
        "!ls -la"
      ],
      "metadata": {
        "id": "uV_dkqmL8_5U",
        "colab": {
          "base_uri": "https://localhost:8080/"
        },
        "outputId": "1a006562-6e27-46d0-beba-3122da17e3ab"
      },
      "execution_count": null,
      "outputs": [
        {
          "output_type": "stream",
          "name": "stdout",
          "text": [
            "total 1180\n",
            "drwxr-xr-x 1 root root   4096 Oct 23 18:20 .\n",
            "drwxr-xr-x 1 root root   4096 Oct 23 18:18 ..\n",
            "-rw-r--r-- 1 root root 884736 Nov 29  2015 chinook.db\n",
            "-rw-r--r-- 1 root root 305596 Oct 23 18:19 chinook.zip\n",
            "drwxr-xr-x 4 root root   4096 Oct 22 13:38 .config\n",
            "drwxr-xr-x 1 root root   4096 Oct 22 13:39 sample_data\n"
          ]
        }
      ]
    },
    {
      "cell_type": "code",
      "source": [
        "!pip install ipython-sql\n",
        "%load_ext sql\n",
        "%sql sqlite:///chinook.db\n",
        "import sql\n"
      ],
      "metadata": {
        "colab": {
          "base_uri": "https://localhost:8080/"
        },
        "collapsed": true,
        "id": "PtJd-OFoNrNK",
        "outputId": "20e94cc1-9504-401a-cde3-fbfdd541c381"
      },
      "execution_count": null,
      "outputs": [
        {
          "output_type": "stream",
          "name": "stdout",
          "text": [
            "Requirement already satisfied: ipython-sql in /usr/local/lib/python3.12/dist-packages (0.5.0)\n",
            "Requirement already satisfied: prettytable in /usr/local/lib/python3.12/dist-packages (from ipython-sql) (3.16.0)\n",
            "Requirement already satisfied: ipython in /usr/local/lib/python3.12/dist-packages (from ipython-sql) (7.34.0)\n",
            "Requirement already satisfied: sqlalchemy>=2.0 in /usr/local/lib/python3.12/dist-packages (from ipython-sql) (2.0.44)\n",
            "Requirement already satisfied: sqlparse in /usr/local/lib/python3.12/dist-packages (from ipython-sql) (0.5.3)\n",
            "Requirement already satisfied: six in /usr/local/lib/python3.12/dist-packages (from ipython-sql) (1.17.0)\n",
            "Requirement already satisfied: ipython-genutils in /usr/local/lib/python3.12/dist-packages (from ipython-sql) (0.2.0)\n",
            "Requirement already satisfied: greenlet>=1 in /usr/local/lib/python3.12/dist-packages (from sqlalchemy>=2.0->ipython-sql) (3.2.4)\n",
            "Requirement already satisfied: typing-extensions>=4.6.0 in /usr/local/lib/python3.12/dist-packages (from sqlalchemy>=2.0->ipython-sql) (4.15.0)\n",
            "Requirement already satisfied: setuptools>=18.5 in /usr/local/lib/python3.12/dist-packages (from ipython->ipython-sql) (75.2.0)\n",
            "Collecting jedi>=0.16 (from ipython->ipython-sql)\n",
            "  Downloading jedi-0.19.2-py2.py3-none-any.whl.metadata (22 kB)\n",
            "Requirement already satisfied: decorator in /usr/local/lib/python3.12/dist-packages (from ipython->ipython-sql) (4.4.2)\n",
            "Requirement already satisfied: pickleshare in /usr/local/lib/python3.12/dist-packages (from ipython->ipython-sql) (0.7.5)\n",
            "Requirement already satisfied: traitlets>=4.2 in /usr/local/lib/python3.12/dist-packages (from ipython->ipython-sql) (5.7.1)\n",
            "Requirement already satisfied: prompt-toolkit!=3.0.0,!=3.0.1,<3.1.0,>=2.0.0 in /usr/local/lib/python3.12/dist-packages (from ipython->ipython-sql) (3.0.52)\n",
            "Requirement already satisfied: pygments in /usr/local/lib/python3.12/dist-packages (from ipython->ipython-sql) (2.19.2)\n",
            "Requirement already satisfied: backcall in /usr/local/lib/python3.12/dist-packages (from ipython->ipython-sql) (0.2.0)\n",
            "Requirement already satisfied: matplotlib-inline in /usr/local/lib/python3.12/dist-packages (from ipython->ipython-sql) (0.1.7)\n",
            "Requirement already satisfied: pexpect>4.3 in /usr/local/lib/python3.12/dist-packages (from ipython->ipython-sql) (4.9.0)\n",
            "Requirement already satisfied: wcwidth in /usr/local/lib/python3.12/dist-packages (from prettytable->ipython-sql) (0.2.14)\n",
            "Requirement already satisfied: parso<0.9.0,>=0.8.4 in /usr/local/lib/python3.12/dist-packages (from jedi>=0.16->ipython->ipython-sql) (0.8.5)\n",
            "Requirement already satisfied: ptyprocess>=0.5 in /usr/local/lib/python3.12/dist-packages (from pexpect>4.3->ipython->ipython-sql) (0.7.0)\n",
            "Downloading jedi-0.19.2-py2.py3-none-any.whl (1.6 MB)\n",
            "\u001b[2K   \u001b[90m━━━━━━━━━━━━━━━━━━━━━━━━━━━━━━━━━━━━━━━━\u001b[0m \u001b[32m1.6/1.6 MB\u001b[0m \u001b[31m63.0 MB/s\u001b[0m eta \u001b[36m0:00:00\u001b[0m\n",
            "\u001b[?25hInstalling collected packages: jedi\n",
            "Successfully installed jedi-0.19.2\n"
          ]
        }
      ]
    },
    {
      "cell_type": "markdown",
      "source": [
        "### SQL Queries"
      ],
      "metadata": {
        "id": "-s-RTT1ORvXp"
      }
    },
    {
      "cell_type": "code",
      "source": [
        "# Show the schema for the entire database\n",
        "%%script sqlite3 --column --header chinook.db\n",
        "\n",
        ".schema\n"
      ],
      "metadata": {
        "colab": {
          "base_uri": "https://localhost:8080/"
        },
        "id": "x_nWFmL-PTm_",
        "outputId": "72f9ec93-4596-46f7-9f72-de4598486f65"
      },
      "execution_count": null,
      "outputs": [
        {
          "output_type": "stream",
          "name": "stdout",
          "text": [
            "CREATE TABLE IF NOT EXISTS \"albums\"\r\n",
            "(\r\n",
            "    [AlbumId] INTEGER PRIMARY KEY AUTOINCREMENT NOT NULL,\r\n",
            "    [Title] NVARCHAR(160)  NOT NULL,\r\n",
            "    [ArtistId] INTEGER  NOT NULL,\r\n",
            "    FOREIGN KEY ([ArtistId]) REFERENCES \"artists\" ([ArtistId]) \r\n",
            "\t\tON DELETE NO ACTION ON UPDATE NO ACTION\r\n",
            ");\n",
            "CREATE TABLE sqlite_sequence(name,seq);\n",
            "CREATE TABLE IF NOT EXISTS \"artists\"\r\n",
            "(\r\n",
            "    [ArtistId] INTEGER PRIMARY KEY AUTOINCREMENT NOT NULL,\r\n",
            "    [Name] NVARCHAR(120)\r\n",
            ");\n",
            "CREATE TABLE IF NOT EXISTS \"customers\"\r\n",
            "(\r\n",
            "    [CustomerId] INTEGER PRIMARY KEY AUTOINCREMENT NOT NULL,\r\n",
            "    [FirstName] NVARCHAR(40)  NOT NULL,\r\n",
            "    [LastName] NVARCHAR(20)  NOT NULL,\r\n",
            "    [Company] NVARCHAR(80),\r\n",
            "    [Address] NVARCHAR(70),\r\n",
            "    [City] NVARCHAR(40),\r\n",
            "    [State] NVARCHAR(40),\r\n",
            "    [Country] NVARCHAR(40),\r\n",
            "    [PostalCode] NVARCHAR(10),\r\n",
            "    [Phone] NVARCHAR(24),\r\n",
            "    [Fax] NVARCHAR(24),\r\n",
            "    [Email] NVARCHAR(60)  NOT NULL,\r\n",
            "    [SupportRepId] INTEGER,\r\n",
            "    FOREIGN KEY ([SupportRepId]) REFERENCES \"employees\" ([EmployeeId]) \r\n",
            "\t\tON DELETE NO ACTION ON UPDATE NO ACTION\r\n",
            ");\n",
            "CREATE TABLE IF NOT EXISTS \"employees\"\r\n",
            "(\r\n",
            "    [EmployeeId] INTEGER PRIMARY KEY AUTOINCREMENT NOT NULL,\r\n",
            "    [LastName] NVARCHAR(20)  NOT NULL,\r\n",
            "    [FirstName] NVARCHAR(20)  NOT NULL,\r\n",
            "    [Title] NVARCHAR(30),\r\n",
            "    [ReportsTo] INTEGER,\r\n",
            "    [BirthDate] DATETIME,\r\n",
            "    [HireDate] DATETIME,\r\n",
            "    [Address] NVARCHAR(70),\r\n",
            "    [City] NVARCHAR(40),\r\n",
            "    [State] NVARCHAR(40),\r\n",
            "    [Country] NVARCHAR(40),\r\n",
            "    [PostalCode] NVARCHAR(10),\r\n",
            "    [Phone] NVARCHAR(24),\r\n",
            "    [Fax] NVARCHAR(24),\r\n",
            "    [Email] NVARCHAR(60),\r\n",
            "    FOREIGN KEY ([ReportsTo]) REFERENCES \"employees\" ([EmployeeId]) \r\n",
            "\t\tON DELETE NO ACTION ON UPDATE NO ACTION\r\n",
            ");\n",
            "CREATE TABLE IF NOT EXISTS \"genres\"\r\n",
            "(\r\n",
            "    [GenreId] INTEGER PRIMARY KEY AUTOINCREMENT NOT NULL,\r\n",
            "    [Name] NVARCHAR(120)\r\n",
            ");\n",
            "CREATE TABLE IF NOT EXISTS \"invoices\"\r\n",
            "(\r\n",
            "    [InvoiceId] INTEGER PRIMARY KEY AUTOINCREMENT NOT NULL,\r\n",
            "    [CustomerId] INTEGER  NOT NULL,\r\n",
            "    [InvoiceDate] DATETIME  NOT NULL,\r\n",
            "    [BillingAddress] NVARCHAR(70),\r\n",
            "    [BillingCity] NVARCHAR(40),\r\n",
            "    [BillingState] NVARCHAR(40),\r\n",
            "    [BillingCountry] NVARCHAR(40),\r\n",
            "    [BillingPostalCode] NVARCHAR(10),\r\n",
            "    [Total] NUMERIC(10,2)  NOT NULL,\r\n",
            "    FOREIGN KEY ([CustomerId]) REFERENCES \"customers\" ([CustomerId]) \r\n",
            "\t\tON DELETE NO ACTION ON UPDATE NO ACTION\r\n",
            ");\n",
            "CREATE TABLE IF NOT EXISTS \"invoice_items\"\r\n",
            "(\r\n",
            "    [InvoiceLineId] INTEGER PRIMARY KEY AUTOINCREMENT NOT NULL,\r\n",
            "    [InvoiceId] INTEGER  NOT NULL,\r\n",
            "    [TrackId] INTEGER  NOT NULL,\r\n",
            "    [UnitPrice] NUMERIC(10,2)  NOT NULL,\r\n",
            "    [Quantity] INTEGER  NOT NULL,\r\n",
            "    FOREIGN KEY ([InvoiceId]) REFERENCES \"invoices\" ([InvoiceId]) \r\n",
            "\t\tON DELETE NO ACTION ON UPDATE NO ACTION,\r\n",
            "    FOREIGN KEY ([TrackId]) REFERENCES \"tracks\" ([TrackId]) \r\n",
            "\t\tON DELETE NO ACTION ON UPDATE NO ACTION\r\n",
            ");\n",
            "CREATE TABLE IF NOT EXISTS \"media_types\"\r\n",
            "(\r\n",
            "    [MediaTypeId] INTEGER PRIMARY KEY AUTOINCREMENT NOT NULL,\r\n",
            "    [Name] NVARCHAR(120)\r\n",
            ");\n",
            "CREATE TABLE IF NOT EXISTS \"playlists\"\r\n",
            "(\r\n",
            "    [PlaylistId] INTEGER PRIMARY KEY AUTOINCREMENT NOT NULL,\r\n",
            "    [Name] NVARCHAR(120)\r\n",
            ");\n",
            "CREATE TABLE IF NOT EXISTS \"playlist_track\"\r\n",
            "(\r\n",
            "    [PlaylistId] INTEGER  NOT NULL,\r\n",
            "    [TrackId] INTEGER  NOT NULL,\r\n",
            "    CONSTRAINT [PK_PlaylistTrack] PRIMARY KEY  ([PlaylistId], [TrackId]),\r\n",
            "    FOREIGN KEY ([PlaylistId]) REFERENCES \"playlists\" ([PlaylistId]) \r\n",
            "\t\tON DELETE NO ACTION ON UPDATE NO ACTION,\r\n",
            "    FOREIGN KEY ([TrackId]) REFERENCES \"tracks\" ([TrackId]) \r\n",
            "\t\tON DELETE NO ACTION ON UPDATE NO ACTION\r\n",
            ");\n",
            "CREATE TABLE IF NOT EXISTS \"tracks\"\r\n",
            "(\r\n",
            "    [TrackId] INTEGER PRIMARY KEY AUTOINCREMENT NOT NULL,\r\n",
            "    [Name] NVARCHAR(200)  NOT NULL,\r\n",
            "    [AlbumId] INTEGER,\r\n",
            "    [MediaTypeId] INTEGER  NOT NULL,\r\n",
            "    [GenreId] INTEGER,\r\n",
            "    [Composer] NVARCHAR(220),\r\n",
            "    [Milliseconds] INTEGER  NOT NULL,\r\n",
            "    [Bytes] INTEGER,\r\n",
            "    [UnitPrice] NUMERIC(10,2)  NOT NULL,\r\n",
            "    FOREIGN KEY ([AlbumId]) REFERENCES \"albums\" ([AlbumId]) \r\n",
            "\t\tON DELETE NO ACTION ON UPDATE NO ACTION,\r\n",
            "    FOREIGN KEY ([GenreId]) REFERENCES \"genres\" ([GenreId]) \r\n",
            "\t\tON DELETE NO ACTION ON UPDATE NO ACTION,\r\n",
            "    FOREIGN KEY ([MediaTypeId]) REFERENCES \"media_types\" ([MediaTypeId]) \r\n",
            "\t\tON DELETE NO ACTION ON UPDATE NO ACTION\r\n",
            ");\n",
            "CREATE INDEX [IFK_AlbumArtistId] ON \"albums\" ([ArtistId]);\n",
            "CREATE INDEX [IFK_CustomerSupportRepId] ON \"customers\" ([SupportRepId]);\n",
            "CREATE INDEX [IFK_EmployeeReportsTo] ON \"employees\" ([ReportsTo]);\n",
            "CREATE INDEX [IFK_InvoiceCustomerId] ON \"invoices\" ([CustomerId]);\n",
            "CREATE INDEX [IFK_InvoiceLineInvoiceId] ON \"invoice_items\" ([InvoiceId]);\n",
            "CREATE INDEX [IFK_InvoiceLineTrackId] ON \"invoice_items\" ([TrackId]);\n",
            "CREATE INDEX [IFK_PlaylistTrackTrackId] ON \"playlist_track\" ([TrackId]);\n",
            "CREATE INDEX [IFK_TrackAlbumId] ON \"tracks\" ([AlbumId]);\n",
            "CREATE INDEX [IFK_TrackGenreId] ON \"tracks\" ([GenreId]);\n",
            "CREATE INDEX [IFK_TrackMediaTypeId] ON \"tracks\" ([MediaTypeId]);\n",
            "CREATE TABLE sqlite_stat1(tbl,idx,stat);\n"
          ]
        }
      ]
    },
    {
      "cell_type": "code",
      "source": [
        "# Get a list of the tables in the database\n",
        "%%script sqlite3 --column --header chinook.db\n",
        "\n",
        ".tables\n"
      ],
      "metadata": {
        "colab": {
          "base_uri": "https://localhost:8080/"
        },
        "id": "JcicNVbfSrTL",
        "outputId": "93190f06-144d-4b6f-f3cf-ded86a6eed23"
      },
      "execution_count": null,
      "outputs": [
        {
          "output_type": "stream",
          "name": "stdout",
          "text": [
            "albums          employees       invoices        playlists     \n",
            "artists         genres          media_types     tracks        \n",
            "customers       invoice_items   playlist_track\n"
          ]
        }
      ]
    },
    {
      "cell_type": "code",
      "source": [
        "# Select the first 10 entries from playlists table\n",
        "%%script sqlite3 --column --header chinook.db\n",
        "\n",
        "select *\n",
        "from playlists\n",
        "limit 50;\n"
      ],
      "metadata": {
        "colab": {
          "base_uri": "https://localhost:8080/"
        },
        "collapsed": true,
        "id": "VdPE3-s5NWb7",
        "outputId": "71664e8b-90d4-4dd9-e42f-83697c36a5f8"
      },
      "execution_count": null,
      "outputs": [
        {
          "output_type": "stream",
          "name": "stdout",
          "text": [
            "PlaylistId  Name                      \n",
            "----------  --------------------------\n",
            "1           Music                     \n",
            "2           Movies                    \n",
            "3           TV Shows                  \n",
            "4           Audiobooks                \n",
            "5           90’s Music                \n",
            "6           Audiobooks                \n",
            "7           Movies                    \n",
            "8           Music                     \n",
            "9           Music Videos              \n",
            "10          TV Shows                  \n",
            "11          Brazilian Music           \n",
            "12          Classical                 \n",
            "13          Classical 101 - Deep Cuts \n",
            "14          Classical 101 - Next Steps\n",
            "15          Classical 101 - The Basics\n",
            "16          Grunge                    \n",
            "17          Heavy Metal Classic       \n",
            "18          On-The-Go 1               \n"
          ]
        }
      ]
    },
    {
      "cell_type": "code",
      "source": [
        "# Select the first 10 entries from playlist_track table\n",
        "%%script sqlite3 --column --header chinook.db\n",
        "\n",
        "select *\n",
        "from playlist_track\n",
        "limit 50;\n"
      ],
      "metadata": {
        "colab": {
          "base_uri": "https://localhost:8080/"
        },
        "collapsed": true,
        "id": "TTps6J8lNHzL",
        "outputId": "6f5c9f71-1626-4bd9-ff57-20a53cc84b2b"
      },
      "execution_count": null,
      "outputs": [
        {
          "output_type": "stream",
          "name": "stdout",
          "text": [
            "PlaylistId  TrackId\n",
            "----------  -------\n",
            "1           3402   \n",
            "1           3389   \n",
            "1           3390   \n",
            "1           3391   \n",
            "1           3392   \n",
            "1           3393   \n",
            "1           3394   \n",
            "1           3395   \n",
            "1           3396   \n",
            "1           3397   \n",
            "1           3398   \n",
            "1           3399   \n",
            "1           3400   \n",
            "1           3401   \n",
            "1           3336   \n",
            "1           3478   \n",
            "1           3375   \n",
            "1           3376   \n",
            "1           3377   \n",
            "1           3378   \n",
            "1           3379   \n",
            "1           3380   \n",
            "1           3381   \n",
            "1           3382   \n",
            "1           3383   \n",
            "1           3384   \n",
            "1           3385   \n",
            "1           3386   \n",
            "1           3387   \n",
            "1           3388   \n",
            "1           3365   \n",
            "1           3366   \n",
            "1           3367   \n",
            "1           3368   \n",
            "1           3369   \n",
            "1           3370   \n",
            "1           3371   \n",
            "1           3372   \n",
            "1           3373   \n",
            "1           3374   \n",
            "1           99     \n",
            "1           100    \n",
            "1           101    \n",
            "1           102    \n",
            "1           103    \n",
            "1           104    \n",
            "1           105    \n",
            "1           106    \n",
            "1           107    \n",
            "1           108    \n"
          ]
        }
      ]
    },
    {
      "cell_type": "code",
      "source": [
        "# Select the first 10 entries from media_types table\n",
        "%%script sqlite3 --column --header chinook.db\n",
        "\n",
        "select *\n",
        "from media_types;\n"
      ],
      "metadata": {
        "colab": {
          "base_uri": "https://localhost:8080/"
        },
        "collapsed": true,
        "id": "7Y8jhFUfM3Rb",
        "outputId": "bf1ae054-acc7-40bf-ed56-a1337b676c4e"
      },
      "execution_count": null,
      "outputs": [
        {
          "output_type": "stream",
          "name": "stdout",
          "text": [
            "MediaTypeId  Name                       \n",
            "-----------  ---------------------------\n",
            "1            MPEG audio file            \n",
            "2            Protected AAC audio file   \n",
            "3            Protected MPEG-4 video file\n",
            "4            Purchased AAC audio file   \n",
            "5            AAC audio file             \n"
          ]
        }
      ]
    },
    {
      "cell_type": "code",
      "source": [
        "# Select the first 10 entries from invoice items table\n",
        "%%script sqlite3 --column --header chinook.db\n",
        "\n",
        "select *\n",
        "from invoice_items\n",
        "limit 50;\n"
      ],
      "metadata": {
        "colab": {
          "base_uri": "https://localhost:8080/"
        },
        "collapsed": true,
        "id": "Z2Ovb3ZVMmyg",
        "outputId": "ad05f2e8-10b1-4c5f-ef7b-212c9769fbad"
      },
      "execution_count": null,
      "outputs": [
        {
          "output_type": "stream",
          "name": "stdout",
          "text": [
            "InvoiceLineId  InvoiceId  TrackId  UnitPrice  Quantity\n",
            "-------------  ---------  -------  ---------  --------\n",
            "1              1          2        0.99       1       \n",
            "2              1          4        0.99       1       \n",
            "3              2          6        0.99       1       \n",
            "4              2          8        0.99       1       \n",
            "5              2          10       0.99       1       \n",
            "6              2          12       0.99       1       \n",
            "7              3          16       0.99       1       \n",
            "8              3          20       0.99       1       \n",
            "9              3          24       0.99       1       \n",
            "10             3          28       0.99       1       \n",
            "11             3          32       0.99       1       \n",
            "12             3          36       0.99       1       \n",
            "13             4          42       0.99       1       \n",
            "14             4          48       0.99       1       \n",
            "15             4          54       0.99       1       \n",
            "16             4          60       0.99       1       \n",
            "17             4          66       0.99       1       \n",
            "18             4          72       0.99       1       \n",
            "19             4          78       0.99       1       \n",
            "20             4          84       0.99       1       \n",
            "21             4          90       0.99       1       \n",
            "22             5          99       0.99       1       \n",
            "23             5          108      0.99       1       \n",
            "24             5          117      0.99       1       \n",
            "25             5          126      0.99       1       \n",
            "26             5          135      0.99       1       \n",
            "27             5          144      0.99       1       \n",
            "28             5          153      0.99       1       \n",
            "29             5          162      0.99       1       \n",
            "30             5          171      0.99       1       \n",
            "31             5          180      0.99       1       \n",
            "32             5          189      0.99       1       \n",
            "33             5          198      0.99       1       \n",
            "34             5          207      0.99       1       \n",
            "35             5          216      0.99       1       \n",
            "36             6          230      0.99       1       \n",
            "37             7          231      0.99       1       \n",
            "38             7          232      0.99       1       \n",
            "39             8          234      0.99       1       \n",
            "40             8          236      0.99       1       \n",
            "41             9          238      0.99       1       \n",
            "42             9          240      0.99       1       \n",
            "43             9          242      0.99       1       \n",
            "44             9          244      0.99       1       \n",
            "45             10         248      0.99       1       \n",
            "46             10         252      0.99       1       \n",
            "47             10         256      0.99       1       \n",
            "48             10         260      0.99       1       \n",
            "49             10         264      0.99       1       \n",
            "50             10         268      0.99       1       \n"
          ]
        }
      ]
    },
    {
      "cell_type": "code",
      "source": [
        "# Select the first 10 entries from the employees table\n",
        "%%script sqlite3 --column --header chinook.db\n",
        "\n",
        "select *\n",
        "from employees\n",
        "limit 10;\n"
      ],
      "metadata": {
        "colab": {
          "base_uri": "https://localhost:8080/"
        },
        "id": "VCKZApHGYQzk",
        "outputId": "79a7bd4d-e2e3-4971-d8c4-15405188fdf2",
        "collapsed": true
      },
      "execution_count": null,
      "outputs": [
        {
          "output_type": "stream",
          "name": "stdout",
          "text": [
            "EmployeeId  LastName  FirstName  Title                ReportsTo  BirthDate            HireDate             Address                      City        State  Country  PostalCode  Phone              Fax                Email                   \n",
            "----------  --------  ---------  -------------------  ---------  -------------------  -------------------  ---------------------------  ----------  -----  -------  ----------  -----------------  -----------------  ------------------------\n",
            "1           Adams     Andrew     General Manager                 1962-02-18 00:00:00  2002-08-14 00:00:00  11120 Jasper Ave NW          Edmonton    AB     Canada   T5K 2N1     +1 (780) 428-9482  +1 (780) 428-3457  andrew@chinookcorp.com  \n",
            "2           Edwards   Nancy      Sales Manager        1          1958-12-08 00:00:00  2002-05-01 00:00:00  825 8 Ave SW                 Calgary     AB     Canada   T2P 2T3     +1 (403) 262-3443  +1 (403) 262-3322  nancy@chinookcorp.com   \n",
            "3           Peacock   Jane       Sales Support Agent  2          1973-08-29 00:00:00  2002-04-01 00:00:00  1111 6 Ave SW                Calgary     AB     Canada   T2P 5M5     +1 (403) 262-3443  +1 (403) 262-6712  jane@chinookcorp.com    \n",
            "4           Park      Margaret   Sales Support Agent  2          1947-09-19 00:00:00  2003-05-03 00:00:00  683 10 Street SW             Calgary     AB     Canada   T2P 5G3     +1 (403) 263-4423  +1 (403) 263-4289  margaret@chinookcorp.com\n",
            "5           Johnson   Steve      Sales Support Agent  2          1965-03-03 00:00:00  2003-10-17 00:00:00  7727B 41 Ave                 Calgary     AB     Canada   T3B 1Y7     1 (780) 836-9987   1 (780) 836-9543   steve@chinookcorp.com   \n",
            "6           Mitchell  Michael    IT Manager           1          1973-07-01 00:00:00  2003-10-17 00:00:00  5827 Bowness Road NW         Calgary     AB     Canada   T3B 0C5     +1 (403) 246-9887  +1 (403) 246-9899  michael@chinookcorp.com \n",
            "7           King      Robert     IT Staff             6          1970-05-29 00:00:00  2004-01-02 00:00:00  590 Columbia Boulevard West  Lethbridge  AB     Canada   T1K 5N8     +1 (403) 456-9986  +1 (403) 456-8485  robert@chinookcorp.com  \n",
            "8           Callahan  Laura      IT Staff             6          1968-01-09 00:00:00  2004-03-04 00:00:00  923 7 ST NW                  Lethbridge  AB     Canada   T1H 1Y8     +1 (403) 467-3351  +1 (403) 467-8772  laura@chinookcorp.com   \n"
          ]
        }
      ]
    },
    {
      "cell_type": "code",
      "source": [
        "# View employee names and titles\n",
        "%%script sqlite3 --column --header chinook.db\n",
        "\n",
        "SELECT FirstName, LastName, Title\n",
        "FROM employees\n",
        "LIMIT 10;\n"
      ],
      "metadata": {
        "colab": {
          "base_uri": "https://localhost:8080/"
        },
        "id": "oVyYE_pRNrKg",
        "outputId": "fd8c47bb-6ebb-4181-cda4-c23bd886fd81",
        "collapsed": true
      },
      "execution_count": null,
      "outputs": [
        {
          "output_type": "stream",
          "name": "stdout",
          "text": [
            "FirstName  LastName  Title              \n",
            "---------  --------  -------------------\n",
            "Andrew     Adams     General Manager    \n",
            "Nancy      Edwards   Sales Manager      \n",
            "Jane       Peacock   Sales Support Agent\n",
            "Margaret   Park      Sales Support Agent\n",
            "Steve      Johnson   Sales Support Agent\n",
            "Michael    Mitchell  IT Manager         \n",
            "Robert     King      IT Staff           \n",
            "Laura      Callahan  IT Staff           \n"
          ]
        }
      ]
    },
    {
      "cell_type": "code",
      "source": [
        "# View employee names and contact\n",
        "%%script sqlite3 --column --header chinook.db\n",
        "\n",
        "SELECT FirstName, LastName, Phone, Email\n",
        "FROM employees\n",
        "LIMIT 10;\n"
      ],
      "metadata": {
        "colab": {
          "base_uri": "https://localhost:8080/"
        },
        "id": "oN8Kga_RNrHr",
        "outputId": "4e2add4d-720f-413f-9e60-fb5c5d5645e2",
        "collapsed": true
      },
      "execution_count": null,
      "outputs": [
        {
          "output_type": "stream",
          "name": "stdout",
          "text": [
            "FirstName  LastName  Phone              Email                   \n",
            "---------  --------  -----------------  ------------------------\n",
            "Andrew     Adams     +1 (780) 428-9482  andrew@chinookcorp.com  \n",
            "Nancy      Edwards   +1 (403) 262-3443  nancy@chinookcorp.com   \n",
            "Jane       Peacock   +1 (403) 262-3443  jane@chinookcorp.com    \n",
            "Margaret   Park      +1 (403) 263-4423  margaret@chinookcorp.com\n",
            "Steve      Johnson   1 (780) 836-9987   steve@chinookcorp.com   \n",
            "Michael    Mitchell  +1 (403) 246-9887  michael@chinookcorp.com \n",
            "Robert     King      +1 (403) 456-9986  robert@chinookcorp.com  \n",
            "Laura      Callahan  +1 (403) 467-3351  laura@chinookcorp.com   \n"
          ]
        }
      ]
    },
    {
      "cell_type": "code",
      "source": [
        "# View IT staff only\n",
        "%%script sqlite3 --column --header chinook.db\n",
        "\n",
        "SELECT FirstName, LastName, Title\n",
        "FROM employees\n",
        "WHERE Title = 'IT Staff';\n"
      ],
      "metadata": {
        "colab": {
          "base_uri": "https://localhost:8080/"
        },
        "id": "vvgKRqQDNq_j",
        "outputId": "01403fea-23ed-4cac-ff62-47c1626f4dfc",
        "collapsed": true
      },
      "execution_count": null,
      "outputs": [
        {
          "output_type": "stream",
          "name": "stdout",
          "text": [
            "FirstName  LastName  Title   \n",
            "---------  --------  --------\n",
            "Robert     King      IT Staff\n",
            "Laura      Callahan  IT Staff\n"
          ]
        }
      ]
    },
    {
      "cell_type": "code",
      "source": [
        "## Employees who are either Sales Support Agents OR report to General Manager\n",
        "%%script sqlite3 --column --header chinook.db\n",
        "\n",
        "SELECT FirstName, LastName, Title, ReportsTo\n",
        "FROM employees\n",
        "WHERE Title = 'Sales Support Agent' OR ReportsTo = 1 ;\n"
      ],
      "metadata": {
        "colab": {
          "base_uri": "https://localhost:8080/"
        },
        "id": "GwEt1w96a-qj",
        "outputId": "05c155fd-ea92-41ac-fcd3-d530d1b6a277"
      },
      "execution_count": null,
      "outputs": [
        {
          "output_type": "stream",
          "name": "stdout",
          "text": [
            "FirstName  LastName  Title                ReportsTo\n",
            "---------  --------  -------------------  ---------\n",
            "Nancy      Edwards   Sales Manager        1        \n",
            "Jane       Peacock   Sales Support Agent  2        \n",
            "Margaret   Park      Sales Support Agent  2        \n",
            "Steve      Johnson   Sales Support Agent  2        \n",
            "Michael    Mitchell  IT Manager           1        \n"
          ]
        }
      ]
    },
    {
      "cell_type": "code",
      "source": [
        "## Employees who are IT Manager and report to General Manager\n",
        "%%script sqlite3 --column --header chinook.db\n",
        "\n",
        "SELECT FirstName, LastName, Title, ReportsTo\n",
        "FROM employees\n",
        "WHERE Title = 'IT Manager' AND ReportsTo = 1;\n"
      ],
      "metadata": {
        "colab": {
          "base_uri": "https://localhost:8080/"
        },
        "id": "RG8lO-Qsb9tr",
        "outputId": "573df2b0-6a2a-4f92-ef62-4d2bcc8fdcc5"
      },
      "execution_count": null,
      "outputs": [
        {
          "output_type": "stream",
          "name": "stdout",
          "text": [
            "FirstName  LastName  Title       ReportsTo\n",
            "---------  --------  ----------  ---------\n",
            "Michael    Mitchell  IT Manager  1        \n"
          ]
        }
      ]
    },
    {
      "cell_type": "code",
      "source": [
        "# Invoices table\n",
        "%%script sqlite3 --column --header chinook.db\n",
        "\n",
        "select *\n",
        "from invoices\n",
        "limit 10;\n"
      ],
      "metadata": {
        "colab": {
          "base_uri": "https://localhost:8080/"
        },
        "id": "0fIXDu1maz3P",
        "outputId": "b462a780-0158-44d3-a910-0f6392bc907e",
        "collapsed": true
      },
      "execution_count": null,
      "outputs": [
        {
          "output_type": "stream",
          "name": "stdout",
          "text": [
            "InvoiceId  CustomerId  InvoiceDate          BillingAddress           BillingCity  BillingState  BillingCountry  BillingPostalCode  Total\n",
            "---------  ----------  -------------------  -----------------------  -----------  ------------  --------------  -----------------  -----\n",
            "1          2           2009-01-01 00:00:00  Theodor-Heuss-Straße 34  Stuttgart                  Germany         70174              1.98 \n",
            "2          4           2009-01-02 00:00:00  Ullevålsveien 14         Oslo                       Norway          0171               3.96 \n",
            "3          8           2009-01-03 00:00:00  Grétrystraat 63          Brussels                   Belgium         1000               5.94 \n",
            "4          14          2009-01-06 00:00:00  8210 111 ST NW           Edmonton     AB            Canada          T6G 2C7            8.91 \n",
            "5          23          2009-01-11 00:00:00  69 Salem Street          Boston       MA            USA             2113               13.86\n",
            "6          37          2009-01-19 00:00:00  Berger Straße 10         Frankfurt                  Germany         60316              0.99 \n",
            "7          38          2009-02-01 00:00:00  Barbarossastraße 19      Berlin                     Germany         10779              1.98 \n",
            "8          40          2009-02-01 00:00:00  8, Rue Hanovre           Paris                      France          75002              1.98 \n",
            "9          42          2009-02-02 00:00:00  9, Place Louis Barthou   Bordeaux                   France          33000              3.96 \n",
            "10         46          2009-02-03 00:00:00  3 Chatham Street         Dublin       Dublin        Ireland                            5.94 \n"
          ]
        }
      ]
    },
    {
      "cell_type": "code",
      "source": [
        "## Invoices table filter by total\n",
        "%%script sqlite3 --column --header chinook.db\n",
        "\n",
        "SELECT InvoiceId, CustomerId, Total\n",
        "FROM Invoices\n",
        "WHERE Total BETWEEN 10 AND 14\n",
        "LIMIT 10;\n"
      ],
      "metadata": {
        "colab": {
          "base_uri": "https://localhost:8080/"
        },
        "id": "kpRZzz8MYk-M",
        "outputId": "2609af77-c8ed-4bc0-e5ef-67d4f692a6e0"
      },
      "execution_count": null,
      "outputs": [
        {
          "output_type": "stream",
          "name": "stdout",
          "text": [
            "InvoiceId  CustomerId  Total\n",
            "---------  ----------  -----\n",
            "5          23          13.86\n",
            "12         2           13.86\n",
            "19         40          13.86\n",
            "26         19          13.86\n",
            "33         57          13.86\n",
            "40         36          13.86\n",
            "47         15          13.86\n",
            "54         53          13.86\n",
            "61         32          13.86\n",
            "68         11          13.86\n"
          ]
        }
      ]
    },
    {
      "cell_type": "code",
      "source": [
        "# Select the first 10 entries from the customers table\n",
        "%%script sqlite3 --column --header chinook.db\n",
        "\n",
        "select *\n",
        "from customers\n",
        "limit 10;\n"
      ],
      "metadata": {
        "colab": {
          "base_uri": "https://localhost:8080/"
        },
        "id": "iYKRSMbkbQt5",
        "outputId": "f1eaf2f5-0887-4ecd-bce6-fe15ae418fbd",
        "collapsed": true
      },
      "execution_count": null,
      "outputs": [
        {
          "output_type": "stream",
          "name": "stdout",
          "text": [
            "CustomerId  FirstName  LastName     Company                                           Address                               City                 State  Country         PostalCode  Phone               Fax                 Email                     SupportRepId\n",
            "----------  ---------  -----------  ------------------------------------------------  ------------------------------------  -------------------  -----  --------------  ----------  ------------------  ------------------  ------------------------  ------------\n",
            "1           Luís       Gonçalves    Embraer - Empresa Brasileira de Aeronáutica S.A.  Av. Brigadeiro Faria Lima, 2170       São José dos Campos  SP     Brazil          12227-000   +55 (12) 3923-5555  +55 (12) 3923-5566  luisg@embraer.com.br      3           \n",
            "2           Leonie     Köhler                                                         Theodor-Heuss-Straße 34               Stuttgart                   Germany         70174       +49 0711 2842222                        leonekohler@surfeu.de     5           \n",
            "3           François   Tremblay                                                       1498 rue Bélanger                     Montréal             QC     Canada          H2G 1A7     +1 (514) 721-4711                       ftremblay@gmail.com       3           \n",
            "4           Bjørn      Hansen                                                         Ullevålsveien 14                      Oslo                        Norway          0171        +47 22 44 22 22                         bjorn.hansen@yahoo.no     4           \n",
            "5           František  Wichterlová  JetBrains s.r.o.                                  Klanova 9/506                         Prague                      Czech Republic  14700       +420 2 4172 5555    +420 2 4172 5555    frantisekw@jetbrains.com  4           \n",
            "6           Helena     Holý                                                           Rilská 3174/6                         Prague                      Czech Republic  14300       +420 2 4177 0449                        hholy@gmail.com           5           \n",
            "7           Astrid     Gruber                                                         Rotenturmstraße 4, 1010 Innere Stadt  Vienne                      Austria         1010        +43 01 5134505                          astrid.gruber@apple.at    5           \n",
            "8           Daan       Peeters                                                        Grétrystraat 63                       Brussels                    Belgium         1000        +32 02 219 03 03                        daan_peeters@apple.be     4           \n",
            "9           Kara       Nielsen                                                        Sønder Boulevard 51                   Copenhagen                  Denmark         1720        +453 3331 9991                          kara.nielsen@jubii.dk     4           \n",
            "10          Eduardo    Martins      Woodstock Discos                                  Rua Dr. Falcão Filho, 155             São Paulo            SP     Brazil          01007-010   +55 (11) 3033-5446  +55 (11) 3033-4564  eduardo@woodstock.com.br  4           \n"
          ]
        }
      ]
    },
    {
      "cell_type": "code",
      "source": [
        "## Customers table match email\n",
        "%%script sqlite3 --column --header chinook.db\n",
        "\n",
        "SELECT FirstName, LastName, Email\n",
        "FROM Customers\n",
        "WHERE Email LIKE '%gmail.com'\n",
        "LIMIT 10;\n"
      ],
      "metadata": {
        "colab": {
          "base_uri": "https://localhost:8080/"
        },
        "id": "gKJowSUlaM_q",
        "outputId": "e92ee1a2-c601-46f9-c716-d545a013e312"
      },
      "execution_count": null,
      "outputs": [
        {
          "output_type": "stream",
          "name": "stdout",
          "text": [
            "FirstName  LastName  Email                      \n",
            "---------  --------  ---------------------------\n",
            "François   Tremblay  ftremblay@gmail.com        \n",
            "Helena     Holý      hholy@gmail.com            \n",
            "Heather    Leacock   hleacock@gmail.com         \n",
            "Frank      Ralston   fralston@gmail.com         \n",
            "Julia      Barnett   jubarnett@gmail.com        \n",
            "Martha     Silk      marthasilk@gmail.com       \n",
            "Dominique  Lefebvre  dominiquelefebvre@gmail.com\n",
            "Phil       Hughes    phil.hughes@gmail.com      \n"
          ]
        }
      ]
    },
    {
      "cell_type": "code",
      "source": [
        "# Customers table match countries\n",
        "%%script sqlite3 --column --header chinook.db\n",
        "\n",
        "SELECT FirstName, LastName, Country\n",
        "FROM Customers\n",
        "WHERE Country IN ('USA', 'Canada', 'Brazil')\n",
        "LIMIT 10;\n"
      ],
      "metadata": {
        "colab": {
          "base_uri": "https://localhost:8080/"
        },
        "id": "sWUUbysDaaJO",
        "outputId": "e99426ca-d674-425c-c5bf-01e956181af9",
        "collapsed": true
      },
      "execution_count": null,
      "outputs": [
        {
          "output_type": "stream",
          "name": "stdout",
          "text": [
            "FirstName  LastName   Country\n",
            "---------  ---------  -------\n",
            "Luís       Gonçalves  Brazil \n",
            "François   Tremblay   Canada \n",
            "Eduardo    Martins    Brazil \n",
            "Alexandre  Rocha      Brazil \n",
            "Roberto    Almeida    Brazil \n",
            "Fernanda   Ramos      Brazil \n",
            "Mark       Philips    Canada \n",
            "Jennifer   Peterson   Canada \n",
            "Frank      Harris     USA    \n",
            "Jack       Smith      USA    \n"
          ]
        }
      ]
    },
    {
      "cell_type": "code",
      "source": [
        "## Employees table sorted by hire date\n",
        "%%script sqlite3 --column --header chinook.db\n",
        "\n",
        "SELECT FirstName, LastName, Title, HireDate\n",
        "FROM employees\n",
        "ORDER BY HireDate\n",
        "LIMIT 10;\n"
      ],
      "metadata": {
        "colab": {
          "base_uri": "https://localhost:8080/"
        },
        "id": "oNlK3eg7Nq_C",
        "outputId": "4813ce80-6346-4edf-98d4-a3cc1ffa5b6e"
      },
      "execution_count": null,
      "outputs": [
        {
          "output_type": "stream",
          "name": "stdout",
          "text": [
            "FirstName  LastName  Title                HireDate           \n",
            "---------  --------  -------------------  -------------------\n",
            "Jane       Peacock   Sales Support Agent  2002-04-01 00:00:00\n",
            "Nancy      Edwards   Sales Manager        2002-05-01 00:00:00\n",
            "Andrew     Adams     General Manager      2002-08-14 00:00:00\n",
            "Margaret   Park      Sales Support Agent  2003-05-03 00:00:00\n",
            "Steve      Johnson   Sales Support Agent  2003-10-17 00:00:00\n",
            "Michael    Mitchell  IT Manager           2003-10-17 00:00:00\n",
            "Robert     King      IT Staff             2004-01-02 00:00:00\n",
            "Laura      Callahan  IT Staff             2004-03-04 00:00:00\n"
          ]
        }
      ]
    },
    {
      "cell_type": "code",
      "source": [
        "## Customers table distinct countries\n",
        "%%script sqlite3 --column --header chinook.db\n",
        "\n",
        "SELECT DISTINCT Country\n",
        "FROM Customers\n",
        "LIMIT 10;\n"
      ],
      "metadata": {
        "colab": {
          "base_uri": "https://localhost:8080/"
        },
        "id": "ZdBDmD7YNq12",
        "outputId": "f89bc899-9f10-4400-a3df-04f0cb6f860e"
      },
      "execution_count": null,
      "outputs": [
        {
          "output_type": "stream",
          "name": "stdout",
          "text": [
            "Country       \n",
            "--------------\n",
            "Brazil        \n",
            "Germany       \n",
            "Canada        \n",
            "Norway        \n",
            "Czech Republic\n",
            "Austria       \n",
            "Belgium       \n",
            "Denmark       \n",
            "USA           \n",
            "Portugal      \n"
          ]
        }
      ]
    },
    {
      "cell_type": "code",
      "source": [
        "## Max from invoice table\n",
        "%%script sqlite3 --column --header chinook.db\n",
        "\n",
        "SELECT MAX(Total) AS max_invoice_total\n",
        "FROM Invoices;\n"
      ],
      "metadata": {
        "colab": {
          "base_uri": "https://localhost:8080/"
        },
        "id": "1IxoXLAweB5m",
        "outputId": "3680272a-71c3-4351-fbdc-600d2dc0f6f6"
      },
      "execution_count": null,
      "outputs": [
        {
          "output_type": "stream",
          "name": "stdout",
          "text": [
            "max_invoice_total\n",
            "-----------------\n",
            "25.86            \n"
          ]
        }
      ]
    },
    {
      "cell_type": "code",
      "source": [
        "## Min from invoice table\n",
        "%%script sqlite3 --column --header chinook.db\n",
        "\n",
        "SELECT MIN(Total) AS min_invoice_total\n",
        "FROM Invoices;\n"
      ],
      "metadata": {
        "colab": {
          "base_uri": "https://localhost:8080/"
        },
        "id": "4XyBymM1eBv5",
        "outputId": "ff0c80c5-3e84-44d6-b8ec-decd9e1b4a12"
      },
      "execution_count": null,
      "outputs": [
        {
          "output_type": "stream",
          "name": "stdout",
          "text": [
            "min_invoice_total\n",
            "-----------------\n",
            "0.99             \n"
          ]
        }
      ]
    },
    {
      "cell_type": "code",
      "source": [
        "## Total sales by country from invoice table\n",
        "%%script sqlite3 --column --header chinook.db\n",
        "\n",
        "SELECT BillingCountry, SUM(Total) AS total_sales\n",
        "FROM Invoices\n",
        "GROUP BY BillingCountry\n",
        "LIMIT 10;\n"
      ],
      "metadata": {
        "colab": {
          "base_uri": "https://localhost:8080/"
        },
        "id": "iHpSptW8eBlV",
        "outputId": "1625ef25-42f7-4550-cae5-99459ae05e35"
      },
      "execution_count": null,
      "outputs": [
        {
          "output_type": "stream",
          "name": "stdout",
          "text": [
            "BillingCountry  total_sales\n",
            "--------------  -----------\n",
            "Argentina       37.62      \n",
            "Australia       37.62      \n",
            "Austria         42.62      \n",
            "Belgium         37.62      \n",
            "Brazil          190.1      \n",
            "Canada          303.96     \n",
            "Chile           46.62      \n",
            "Czech Republic  90.24      \n",
            "Denmark         37.62      \n",
            "Finland         41.62      \n"
          ]
        }
      ]
    },
    {
      "cell_type": "code",
      "source": [
        "## Average sales from invoice table\n",
        "%%script sqlite3 --column --header chinook.db\n",
        "\n",
        "SELECT AVG(Total) AS average_invoice_total\n",
        "FROM Invoices;\n"
      ],
      "metadata": {
        "colab": {
          "base_uri": "https://localhost:8080/"
        },
        "id": "965EtI8FeBaH",
        "outputId": "1fa1bcde-6ae2-4e96-9a16-005daccea905"
      },
      "execution_count": null,
      "outputs": [
        {
          "output_type": "stream",
          "name": "stdout",
          "text": [
            "average_invoice_total\n",
            "---------------------\n",
            "5.65194174757282     \n"
          ]
        }
      ]
    },
    {
      "cell_type": "code",
      "source": [
        "## Customers table customers grouped by country\n",
        "%%script sqlite3 --column --header chinook.db\n",
        "\n",
        "SELECT Country, COUNT(*) AS customer_count\n",
        "FROM Customers\n",
        "GROUP BY Country\n",
        "ORDER BY customer_count DESC\n",
        "LIMIT 10;\n"
      ],
      "metadata": {
        "colab": {
          "base_uri": "https://localhost:8080/"
        },
        "id": "0FIbRM4rNqzD",
        "outputId": "27958200-f143-4399-c621-e39b4c9a51ee"
      },
      "execution_count": null,
      "outputs": [
        {
          "output_type": "stream",
          "name": "stdout",
          "text": [
            "Country         customer_count\n",
            "--------------  --------------\n",
            "USA             13            \n",
            "Canada          8             \n",
            "France          5             \n",
            "Brazil          5             \n",
            "Germany         4             \n",
            "United Kingdom  3             \n",
            "Portugal        2             \n",
            "India           2             \n",
            "Czech Republic  2             \n",
            "Sweden          1             \n"
          ]
        }
      ]
    },
    {
      "cell_type": "code",
      "source": [
        "## Customers table with customers >3 by country\n",
        "%%script sqlite3 --column --header chinook.db\n",
        "\n",
        "SELECT Country, COUNT(*) AS customer_count\n",
        "FROM Customers\n",
        "GROUP BY Country\n",
        "HAVING customer_count >3;\n"
      ],
      "metadata": {
        "colab": {
          "base_uri": "https://localhost:8080/"
        },
        "id": "WHDkN97Oc663",
        "outputId": "36b7e7fc-e186-4702-908f-f332e7cc6adc"
      },
      "execution_count": null,
      "outputs": [
        {
          "output_type": "stream",
          "name": "stdout",
          "text": [
            "Country  customer_count\n",
            "-------  --------------\n",
            "Brazil   5             \n",
            "Canada   8             \n",
            "France   5             \n",
            "Germany  4             \n",
            "USA      13            \n"
          ]
        }
      ]
    },
    {
      "cell_type": "markdown",
      "source": [
        "### Plots"
      ],
      "metadata": {
        "id": "ydAdEpvHSFfn"
      }
    },
    {
      "cell_type": "code",
      "source": [
        "## From invoices table plot top 10 countries by total sales\n",
        "\n",
        "# Connect to database\n",
        "conn = db.connect(\"chinook.db\")\n",
        "\n",
        "# SQL query\n",
        "query = \"\"\"\n",
        "SELECT BillingCountry, SUM(Total) AS TotalSales\n",
        "FROM Invoices\n",
        "GROUP BY BillingCountry\n",
        "ORDER BY TotalSales DESC\n",
        "LIMIT 10;\n",
        "\"\"\"\n",
        "\n",
        "# Load into DataFrame\n",
        "df_top10 = pd.read_sql_query(query, conn)\n",
        "conn.close()\n",
        "\n",
        "df_top10\n"
      ],
      "metadata": {
        "colab": {
          "base_uri": "https://localhost:8080/",
          "height": 363
        },
        "id": "INxrzUJUDDXC",
        "outputId": "5e749245-a00c-4d0b-e0d2-71db9e13b268"
      },
      "execution_count": null,
      "outputs": [
        {
          "output_type": "execute_result",
          "data": {
            "text/plain": [
              "   BillingCountry  TotalSales\n",
              "0             USA      523.06\n",
              "1          Canada      303.96\n",
              "2          France      195.10\n",
              "3          Brazil      190.10\n",
              "4         Germany      156.48\n",
              "5  United Kingdom      112.86\n",
              "6  Czech Republic       90.24\n",
              "7        Portugal       77.24\n",
              "8           India       75.26\n",
              "9           Chile       46.62"
            ],
            "text/html": [
              "\n",
              "  <div id=\"df-eb11e096-93ca-45c4-86d1-fb255bad1930\" class=\"colab-df-container\">\n",
              "    <div>\n",
              "<style scoped>\n",
              "    .dataframe tbody tr th:only-of-type {\n",
              "        vertical-align: middle;\n",
              "    }\n",
              "\n",
              "    .dataframe tbody tr th {\n",
              "        vertical-align: top;\n",
              "    }\n",
              "\n",
              "    .dataframe thead th {\n",
              "        text-align: right;\n",
              "    }\n",
              "</style>\n",
              "<table border=\"1\" class=\"dataframe\">\n",
              "  <thead>\n",
              "    <tr style=\"text-align: right;\">\n",
              "      <th></th>\n",
              "      <th>BillingCountry</th>\n",
              "      <th>TotalSales</th>\n",
              "    </tr>\n",
              "  </thead>\n",
              "  <tbody>\n",
              "    <tr>\n",
              "      <th>0</th>\n",
              "      <td>USA</td>\n",
              "      <td>523.06</td>\n",
              "    </tr>\n",
              "    <tr>\n",
              "      <th>1</th>\n",
              "      <td>Canada</td>\n",
              "      <td>303.96</td>\n",
              "    </tr>\n",
              "    <tr>\n",
              "      <th>2</th>\n",
              "      <td>France</td>\n",
              "      <td>195.10</td>\n",
              "    </tr>\n",
              "    <tr>\n",
              "      <th>3</th>\n",
              "      <td>Brazil</td>\n",
              "      <td>190.10</td>\n",
              "    </tr>\n",
              "    <tr>\n",
              "      <th>4</th>\n",
              "      <td>Germany</td>\n",
              "      <td>156.48</td>\n",
              "    </tr>\n",
              "    <tr>\n",
              "      <th>5</th>\n",
              "      <td>United Kingdom</td>\n",
              "      <td>112.86</td>\n",
              "    </tr>\n",
              "    <tr>\n",
              "      <th>6</th>\n",
              "      <td>Czech Republic</td>\n",
              "      <td>90.24</td>\n",
              "    </tr>\n",
              "    <tr>\n",
              "      <th>7</th>\n",
              "      <td>Portugal</td>\n",
              "      <td>77.24</td>\n",
              "    </tr>\n",
              "    <tr>\n",
              "      <th>8</th>\n",
              "      <td>India</td>\n",
              "      <td>75.26</td>\n",
              "    </tr>\n",
              "    <tr>\n",
              "      <th>9</th>\n",
              "      <td>Chile</td>\n",
              "      <td>46.62</td>\n",
              "    </tr>\n",
              "  </tbody>\n",
              "</table>\n",
              "</div>\n",
              "    <div class=\"colab-df-buttons\">\n",
              "\n",
              "  <div class=\"colab-df-container\">\n",
              "    <button class=\"colab-df-convert\" onclick=\"convertToInteractive('df-eb11e096-93ca-45c4-86d1-fb255bad1930')\"\n",
              "            title=\"Convert this dataframe to an interactive table.\"\n",
              "            style=\"display:none;\">\n",
              "\n",
              "  <svg xmlns=\"http://www.w3.org/2000/svg\" height=\"24px\" viewBox=\"0 -960 960 960\">\n",
              "    <path d=\"M120-120v-720h720v720H120Zm60-500h600v-160H180v160Zm220 220h160v-160H400v160Zm0 220h160v-160H400v160ZM180-400h160v-160H180v160Zm440 0h160v-160H620v160ZM180-180h160v-160H180v160Zm440 0h160v-160H620v160Z\"/>\n",
              "  </svg>\n",
              "    </button>\n",
              "\n",
              "  <style>\n",
              "    .colab-df-container {\n",
              "      display:flex;\n",
              "      gap: 12px;\n",
              "    }\n",
              "\n",
              "    .colab-df-convert {\n",
              "      background-color: #E8F0FE;\n",
              "      border: none;\n",
              "      border-radius: 50%;\n",
              "      cursor: pointer;\n",
              "      display: none;\n",
              "      fill: #1967D2;\n",
              "      height: 32px;\n",
              "      padding: 0 0 0 0;\n",
              "      width: 32px;\n",
              "    }\n",
              "\n",
              "    .colab-df-convert:hover {\n",
              "      background-color: #E2EBFA;\n",
              "      box-shadow: 0px 1px 2px rgba(60, 64, 67, 0.3), 0px 1px 3px 1px rgba(60, 64, 67, 0.15);\n",
              "      fill: #174EA6;\n",
              "    }\n",
              "\n",
              "    .colab-df-buttons div {\n",
              "      margin-bottom: 4px;\n",
              "    }\n",
              "\n",
              "    [theme=dark] .colab-df-convert {\n",
              "      background-color: #3B4455;\n",
              "      fill: #D2E3FC;\n",
              "    }\n",
              "\n",
              "    [theme=dark] .colab-df-convert:hover {\n",
              "      background-color: #434B5C;\n",
              "      box-shadow: 0px 1px 3px 1px rgba(0, 0, 0, 0.15);\n",
              "      filter: drop-shadow(0px 1px 2px rgba(0, 0, 0, 0.3));\n",
              "      fill: #FFFFFF;\n",
              "    }\n",
              "  </style>\n",
              "\n",
              "    <script>\n",
              "      const buttonEl =\n",
              "        document.querySelector('#df-eb11e096-93ca-45c4-86d1-fb255bad1930 button.colab-df-convert');\n",
              "      buttonEl.style.display =\n",
              "        google.colab.kernel.accessAllowed ? 'block' : 'none';\n",
              "\n",
              "      async function convertToInteractive(key) {\n",
              "        const element = document.querySelector('#df-eb11e096-93ca-45c4-86d1-fb255bad1930');\n",
              "        const dataTable =\n",
              "          await google.colab.kernel.invokeFunction('convertToInteractive',\n",
              "                                                    [key], {});\n",
              "        if (!dataTable) return;\n",
              "\n",
              "        const docLinkHtml = 'Like what you see? Visit the ' +\n",
              "          '<a target=\"_blank\" href=https://colab.research.google.com/notebooks/data_table.ipynb>data table notebook</a>'\n",
              "          + ' to learn more about interactive tables.';\n",
              "        element.innerHTML = '';\n",
              "        dataTable['output_type'] = 'display_data';\n",
              "        await google.colab.output.renderOutput(dataTable, element);\n",
              "        const docLink = document.createElement('div');\n",
              "        docLink.innerHTML = docLinkHtml;\n",
              "        element.appendChild(docLink);\n",
              "      }\n",
              "    </script>\n",
              "  </div>\n",
              "\n",
              "\n",
              "    <div id=\"df-f99fd792-f0a6-4250-b8c9-110a7f7900f0\">\n",
              "      <button class=\"colab-df-quickchart\" onclick=\"quickchart('df-f99fd792-f0a6-4250-b8c9-110a7f7900f0')\"\n",
              "                title=\"Suggest charts\"\n",
              "                style=\"display:none;\">\n",
              "\n",
              "<svg xmlns=\"http://www.w3.org/2000/svg\" height=\"24px\"viewBox=\"0 0 24 24\"\n",
              "     width=\"24px\">\n",
              "    <g>\n",
              "        <path d=\"M19 3H5c-1.1 0-2 .9-2 2v14c0 1.1.9 2 2 2h14c1.1 0 2-.9 2-2V5c0-1.1-.9-2-2-2zM9 17H7v-7h2v7zm4 0h-2V7h2v10zm4 0h-2v-4h2v4z\"/>\n",
              "    </g>\n",
              "</svg>\n",
              "      </button>\n",
              "\n",
              "<style>\n",
              "  .colab-df-quickchart {\n",
              "      --bg-color: #E8F0FE;\n",
              "      --fill-color: #1967D2;\n",
              "      --hover-bg-color: #E2EBFA;\n",
              "      --hover-fill-color: #174EA6;\n",
              "      --disabled-fill-color: #AAA;\n",
              "      --disabled-bg-color: #DDD;\n",
              "  }\n",
              "\n",
              "  [theme=dark] .colab-df-quickchart {\n",
              "      --bg-color: #3B4455;\n",
              "      --fill-color: #D2E3FC;\n",
              "      --hover-bg-color: #434B5C;\n",
              "      --hover-fill-color: #FFFFFF;\n",
              "      --disabled-bg-color: #3B4455;\n",
              "      --disabled-fill-color: #666;\n",
              "  }\n",
              "\n",
              "  .colab-df-quickchart {\n",
              "    background-color: var(--bg-color);\n",
              "    border: none;\n",
              "    border-radius: 50%;\n",
              "    cursor: pointer;\n",
              "    display: none;\n",
              "    fill: var(--fill-color);\n",
              "    height: 32px;\n",
              "    padding: 0;\n",
              "    width: 32px;\n",
              "  }\n",
              "\n",
              "  .colab-df-quickchart:hover {\n",
              "    background-color: var(--hover-bg-color);\n",
              "    box-shadow: 0 1px 2px rgba(60, 64, 67, 0.3), 0 1px 3px 1px rgba(60, 64, 67, 0.15);\n",
              "    fill: var(--button-hover-fill-color);\n",
              "  }\n",
              "\n",
              "  .colab-df-quickchart-complete:disabled,\n",
              "  .colab-df-quickchart-complete:disabled:hover {\n",
              "    background-color: var(--disabled-bg-color);\n",
              "    fill: var(--disabled-fill-color);\n",
              "    box-shadow: none;\n",
              "  }\n",
              "\n",
              "  .colab-df-spinner {\n",
              "    border: 2px solid var(--fill-color);\n",
              "    border-color: transparent;\n",
              "    border-bottom-color: var(--fill-color);\n",
              "    animation:\n",
              "      spin 1s steps(1) infinite;\n",
              "  }\n",
              "\n",
              "  @keyframes spin {\n",
              "    0% {\n",
              "      border-color: transparent;\n",
              "      border-bottom-color: var(--fill-color);\n",
              "      border-left-color: var(--fill-color);\n",
              "    }\n",
              "    20% {\n",
              "      border-color: transparent;\n",
              "      border-left-color: var(--fill-color);\n",
              "      border-top-color: var(--fill-color);\n",
              "    }\n",
              "    30% {\n",
              "      border-color: transparent;\n",
              "      border-left-color: var(--fill-color);\n",
              "      border-top-color: var(--fill-color);\n",
              "      border-right-color: var(--fill-color);\n",
              "    }\n",
              "    40% {\n",
              "      border-color: transparent;\n",
              "      border-right-color: var(--fill-color);\n",
              "      border-top-color: var(--fill-color);\n",
              "    }\n",
              "    60% {\n",
              "      border-color: transparent;\n",
              "      border-right-color: var(--fill-color);\n",
              "    }\n",
              "    80% {\n",
              "      border-color: transparent;\n",
              "      border-right-color: var(--fill-color);\n",
              "      border-bottom-color: var(--fill-color);\n",
              "    }\n",
              "    90% {\n",
              "      border-color: transparent;\n",
              "      border-bottom-color: var(--fill-color);\n",
              "    }\n",
              "  }\n",
              "</style>\n",
              "\n",
              "      <script>\n",
              "        async function quickchart(key) {\n",
              "          const quickchartButtonEl =\n",
              "            document.querySelector('#' + key + ' button');\n",
              "          quickchartButtonEl.disabled = true;  // To prevent multiple clicks.\n",
              "          quickchartButtonEl.classList.add('colab-df-spinner');\n",
              "          try {\n",
              "            const charts = await google.colab.kernel.invokeFunction(\n",
              "                'suggestCharts', [key], {});\n",
              "          } catch (error) {\n",
              "            console.error('Error during call to suggestCharts:', error);\n",
              "          }\n",
              "          quickchartButtonEl.classList.remove('colab-df-spinner');\n",
              "          quickchartButtonEl.classList.add('colab-df-quickchart-complete');\n",
              "        }\n",
              "        (() => {\n",
              "          let quickchartButtonEl =\n",
              "            document.querySelector('#df-f99fd792-f0a6-4250-b8c9-110a7f7900f0 button');\n",
              "          quickchartButtonEl.style.display =\n",
              "            google.colab.kernel.accessAllowed ? 'block' : 'none';\n",
              "        })();\n",
              "      </script>\n",
              "    </div>\n",
              "\n",
              "  <div id=\"id_91bf2b23-4ef1-4d8c-ab36-5f801806b261\">\n",
              "    <style>\n",
              "      .colab-df-generate {\n",
              "        background-color: #E8F0FE;\n",
              "        border: none;\n",
              "        border-radius: 50%;\n",
              "        cursor: pointer;\n",
              "        display: none;\n",
              "        fill: #1967D2;\n",
              "        height: 32px;\n",
              "        padding: 0 0 0 0;\n",
              "        width: 32px;\n",
              "      }\n",
              "\n",
              "      .colab-df-generate:hover {\n",
              "        background-color: #E2EBFA;\n",
              "        box-shadow: 0px 1px 2px rgba(60, 64, 67, 0.3), 0px 1px 3px 1px rgba(60, 64, 67, 0.15);\n",
              "        fill: #174EA6;\n",
              "      }\n",
              "\n",
              "      [theme=dark] .colab-df-generate {\n",
              "        background-color: #3B4455;\n",
              "        fill: #D2E3FC;\n",
              "      }\n",
              "\n",
              "      [theme=dark] .colab-df-generate:hover {\n",
              "        background-color: #434B5C;\n",
              "        box-shadow: 0px 1px 3px 1px rgba(0, 0, 0, 0.15);\n",
              "        filter: drop-shadow(0px 1px 2px rgba(0, 0, 0, 0.3));\n",
              "        fill: #FFFFFF;\n",
              "      }\n",
              "    </style>\n",
              "    <button class=\"colab-df-generate\" onclick=\"generateWithVariable('df_top10')\"\n",
              "            title=\"Generate code using this dataframe.\"\n",
              "            style=\"display:none;\">\n",
              "\n",
              "  <svg xmlns=\"http://www.w3.org/2000/svg\" height=\"24px\"viewBox=\"0 0 24 24\"\n",
              "       width=\"24px\">\n",
              "    <path d=\"M7,19H8.4L18.45,9,17,7.55,7,17.6ZM5,21V16.75L18.45,3.32a2,2,0,0,1,2.83,0l1.4,1.43a1.91,1.91,0,0,1,.58,1.4,1.91,1.91,0,0,1-.58,1.4L9.25,21ZM18.45,9,17,7.55Zm-12,3A5.31,5.31,0,0,0,4.9,8.1,5.31,5.31,0,0,0,1,6.5,5.31,5.31,0,0,0,4.9,4.9,5.31,5.31,0,0,0,6.5,1,5.31,5.31,0,0,0,8.1,4.9,5.31,5.31,0,0,0,12,6.5,5.46,5.46,0,0,0,6.5,12Z\"/>\n",
              "  </svg>\n",
              "    </button>\n",
              "    <script>\n",
              "      (() => {\n",
              "      const buttonEl =\n",
              "        document.querySelector('#id_91bf2b23-4ef1-4d8c-ab36-5f801806b261 button.colab-df-generate');\n",
              "      buttonEl.style.display =\n",
              "        google.colab.kernel.accessAllowed ? 'block' : 'none';\n",
              "\n",
              "      buttonEl.onclick = () => {\n",
              "        google.colab.notebook.generateWithVariable('df_top10');\n",
              "      }\n",
              "      })();\n",
              "    </script>\n",
              "  </div>\n",
              "\n",
              "    </div>\n",
              "  </div>\n"
            ],
            "application/vnd.google.colaboratory.intrinsic+json": {
              "type": "dataframe",
              "variable_name": "df_top10",
              "summary": "{\n  \"name\": \"df_top10\",\n  \"rows\": 10,\n  \"fields\": [\n    {\n      \"column\": \"BillingCountry\",\n      \"properties\": {\n        \"dtype\": \"string\",\n        \"num_unique_values\": 10,\n        \"samples\": [\n          \"India\",\n          \"Canada\",\n          \"United Kingdom\"\n        ],\n        \"semantic_type\": \"\",\n        \"description\": \"\"\n      }\n    },\n    {\n      \"column\": \"TotalSales\",\n      \"properties\": {\n        \"dtype\": \"number\",\n        \"std\": 143.65848304611578,\n        \"min\": 46.62,\n        \"max\": 523.0600000000003,\n        \"num_unique_values\": 10,\n        \"samples\": [\n          75.25999999999999,\n          303.9599999999999,\n          112.85999999999999\n        ],\n        \"semantic_type\": \"\",\n        \"description\": \"\"\n      }\n    }\n  ]\n}"
            }
          },
          "metadata": {},
          "execution_count": 34
        }
      ]
    },
    {
      "cell_type": "code",
      "source": [
        "import matplotlib.pyplot as plt\n",
        "\n",
        "# Plot horizontal bar chart\n",
        "plt.figure(figsize=(10,6))\n",
        "plt.barh(df_top10['BillingCountry'], df_top10['TotalSales'], color='slateblue')\n",
        "plt.gca().invert_yaxis()\n",
        "\n",
        "# Labels\n",
        "plt.xlabel(\"Total Sales ($)\")\n",
        "plt.ylabel(\"Country\")\n",
        "plt.title(\"Top 10 Countries by Total Sales\")\n",
        "\n",
        "plt.tight_layout()\n",
        "plt.show()\n"
      ],
      "metadata": {
        "colab": {
          "base_uri": "https://localhost:8080/",
          "height": 494
        },
        "id": "FFpUTipZFNZp",
        "outputId": "59b304ce-0a46-47b0-aa45-861d5185d0eb"
      },
      "execution_count": null,
      "outputs": [
        {
          "output_type": "display_data",
          "data": {
            "text/plain": [
              "<Figure size 1000x600 with 1 Axes>"
            ],
            "image/png": "[encoded data removed]"
          },
          "metadata": {}
        }
      ]
    },
    {
      "cell_type": "code",
      "source": [
        "# From customers table plot top 10 countries by customers\n",
        "\n",
        "# Connect to the database\n",
        "conn = db.connect(\"chinook.db\")\n",
        "\n",
        "# Top 10 countries by customer count\n",
        "query = \"\"\"\n",
        "SELECT Country, COUNT(*) AS CustomerCount\n",
        "FROM Customers\n",
        "GROUP BY Country\n",
        "ORDER BY CustomerCount DESC\n",
        "LIMIT 10;\n",
        "\"\"\"\n",
        "\n",
        "# Make DataFrame\n",
        "top10_customers = pd.read_sql_query(query, conn)\n",
        "conn.close()\n",
        "\n",
        "top10_customers\n"
      ],
      "metadata": {
        "colab": {
          "base_uri": "https://localhost:8080/",
          "height": 363
        },
        "id": "h3FQtXqIGIsV",
        "outputId": "9aa4f682-a64e-49a4-d42f-bef43c86dab1"
      },
      "execution_count": null,
      "outputs": [
        {
          "output_type": "execute_result",
          "data": {
            "text/plain": [
              "          Country  CustomerCount\n",
              "0             USA             13\n",
              "1          Canada              8\n",
              "2          France              5\n",
              "3          Brazil              5\n",
              "4         Germany              4\n",
              "5  United Kingdom              3\n",
              "6        Portugal              2\n",
              "7           India              2\n",
              "8  Czech Republic              2\n",
              "9          Sweden              1"
            ],
            "text/html": [
              "\n",
              "  <div id=\"df-e366a72a-5024-4e73-b01d-064037d00baf\" class=\"colab-df-container\">\n",
              "    <div>\n",
              "<style scoped>\n",
              "    .dataframe tbody tr th:only-of-type {\n",
              "        vertical-align: middle;\n",
              "    }\n",
              "\n",
              "    .dataframe tbody tr th {\n",
              "        vertical-align: top;\n",
              "    }\n",
              "\n",
              "    .dataframe thead th {\n",
              "        text-align: right;\n",
              "    }\n",
              "</style>\n",
              "<table border=\"1\" class=\"dataframe\">\n",
              "  <thead>\n",
              "    <tr style=\"text-align: right;\">\n",
              "      <th></th>\n",
              "      <th>Country</th>\n",
              "      <th>CustomerCount</th>\n",
              "    </tr>\n",
              "  </thead>\n",
              "  <tbody>\n",
              "    <tr>\n",
              "      <th>0</th>\n",
              "      <td>USA</td>\n",
              "      <td>13</td>\n",
              "    </tr>\n",
              "    <tr>\n",
              "      <th>1</th>\n",
              "      <td>Canada</td>\n",
              "      <td>8</td>\n",
              "    </tr>\n",
              "    <tr>\n",
              "      <th>2</th>\n",
              "      <td>France</td>\n",
              "      <td>5</td>\n",
              "    </tr>\n",
              "    <tr>\n",
              "      <th>3</th>\n",
              "      <td>Brazil</td>\n",
              "      <td>5</td>\n",
              "    </tr>\n",
              "    <tr>\n",
              "      <th>4</th>\n",
              "      <td>Germany</td>\n",
              "      <td>4</td>\n",
              "    </tr>\n",
              "    <tr>\n",
              "      <th>5</th>\n",
              "      <td>United Kingdom</td>\n",
              "      <td>3</td>\n",
              "    </tr>\n",
              "    <tr>\n",
              "      <th>6</th>\n",
              "      <td>Portugal</td>\n",
              "      <td>2</td>\n",
              "    </tr>\n",
              "    <tr>\n",
              "      <th>7</th>\n",
              "      <td>India</td>\n",
              "      <td>2</td>\n",
              "    </tr>\n",
              "    <tr>\n",
              "      <th>8</th>\n",
              "      <td>Czech Republic</td>\n",
              "      <td>2</td>\n",
              "    </tr>\n",
              "    <tr>\n",
              "      <th>9</th>\n",
              "      <td>Sweden</td>\n",
              "      <td>1</td>\n",
              "    </tr>\n",
              "  </tbody>\n",
              "</table>\n",
              "</div>\n",
              "    <div class=\"colab-df-buttons\">\n",
              "\n",
              "  <div class=\"colab-df-container\">\n",
              "    <button class=\"colab-df-convert\" onclick=\"convertToInteractive('df-e366a72a-5024-4e73-b01d-064037d00baf')\"\n",
              "            title=\"Convert this dataframe to an interactive table.\"\n",
              "            style=\"display:none;\">\n",
              "\n",
              "  <svg xmlns=\"http://www.w3.org/2000/svg\" height=\"24px\" viewBox=\"0 -960 960 960\">\n",
              "    <path d=\"M120-120v-720h720v720H120Zm60-500h600v-160H180v160Zm220 220h160v-160H400v160Zm0 220h160v-160H400v160ZM180-400h160v-160H180v160Zm440 0h160v-160H620v160ZM180-180h160v-160H180v160Zm440 0h160v-160H620v160Z\"/>\n",
              "  </svg>\n",
              "    </button>\n",
              "\n",
              "  <style>\n",
              "    .colab-df-container {\n",
              "      display:flex;\n",
              "      gap: 12px;\n",
              "    }\n",
              "\n",
              "    .colab-df-convert {\n",
              "      background-color: #E8F0FE;\n",
              "      border: none;\n",
              "      border-radius: 50%;\n",
              "      cursor: pointer;\n",
              "      display: none;\n",
              "      fill: #1967D2;\n",
              "      height: 32px;\n",
              "      padding: 0 0 0 0;\n",
              "      width: 32px;\n",
              "    }\n",
              "\n",
              "    .colab-df-convert:hover {\n",
              "      background-color: #E2EBFA;\n",
              "      box-shadow: 0px 1px 2px rgba(60, 64, 67, 0.3), 0px 1px 3px 1px rgba(60, 64, 67, 0.15);\n",
              "      fill: #174EA6;\n",
              "    }\n",
              "\n",
              "    .colab-df-buttons div {\n",
              "      margin-bottom: 4px;\n",
              "    }\n",
              "\n",
              "    [theme=dark] .colab-df-convert {\n",
              "      background-color: #3B4455;\n",
              "      fill: #D2E3FC;\n",
              "    }\n",
              "\n",
              "    [theme=dark] .colab-df-convert:hover {\n",
              "      background-color: #434B5C;\n",
              "      box-shadow: 0px 1px 3px 1px rgba(0, 0, 0, 0.15);\n",
              "      filter: drop-shadow(0px 1px 2px rgba(0, 0, 0, 0.3));\n",
              "      fill: #FFFFFF;\n",
              "    }\n",
              "  </style>\n",
              "\n",
              "    <script>\n",
              "      const buttonEl =\n",
              "        document.querySelector('#df-e366a72a-5024-4e73-b01d-064037d00baf button.colab-df-convert');\n",
              "      buttonEl.style.display =\n",
              "        google.colab.kernel.accessAllowed ? 'block' : 'none';\n",
              "\n",
              "      async function convertToInteractive(key) {\n",
              "        const element = document.querySelector('#df-e366a72a-5024-4e73-b01d-064037d00baf');\n",
              "        const dataTable =\n",
              "          await google.colab.kernel.invokeFunction('convertToInteractive',\n",
              "                                                    [key], {});\n",
              "        if (!dataTable) return;\n",
              "\n",
              "        const docLinkHtml = 'Like what you see? Visit the ' +\n",
              "          '<a target=\"_blank\" href=https://colab.research.google.com/notebooks/data_table.ipynb>data table notebook</a>'\n",
              "          + ' to learn more about interactive tables.';\n",
              "        element.innerHTML = '';\n",
              "        dataTable['output_type'] = 'display_data';\n",
              "        await google.colab.output.renderOutput(dataTable, element);\n",
              "        const docLink = document.createElement('div');\n",
              "        docLink.innerHTML = docLinkHtml;\n",
              "        element.appendChild(docLink);\n",
              "      }\n",
              "    </script>\n",
              "  </div>\n",
              "\n",
              "\n",
              "    <div id=\"df-f72713be-cb8a-4ab0-9f5b-b6ca3e4da6fb\">\n",
              "      <button class=\"colab-df-quickchart\" onclick=\"quickchart('df-f72713be-cb8a-4ab0-9f5b-b6ca3e4da6fb')\"\n",
              "                title=\"Suggest charts\"\n",
              "                style=\"display:none;\">\n",
              "\n",
              "<svg xmlns=\"http://www.w3.org/2000/svg\" height=\"24px\"viewBox=\"0 0 24 24\"\n",
              "     width=\"24px\">\n",
              "    <g>\n",
              "        <path d=\"M19 3H5c-1.1 0-2 .9-2 2v14c0 1.1.9 2 2 2h14c1.1 0 2-.9 2-2V5c0-1.1-.9-2-2-2zM9 17H7v-7h2v7zm4 0h-2V7h2v10zm4 0h-2v-4h2v4z\"/>\n",
              "    </g>\n",
              "</svg>\n",
              "      </button>\n",
              "\n",
              "<style>\n",
              "  .colab-df-quickchart {\n",
              "      --bg-color: #E8F0FE;\n",
              "      --fill-color: #1967D2;\n",
              "      --hover-bg-color: #E2EBFA;\n",
              "      --hover-fill-color: #174EA6;\n",
              "      --disabled-fill-color: #AAA;\n",
              "      --disabled-bg-color: #DDD;\n",
              "  }\n",
              "\n",
              "  [theme=dark] .colab-df-quickchart {\n",
              "      --bg-color: #3B4455;\n",
              "      --fill-color: #D2E3FC;\n",
              "      --hover-bg-color: #434B5C;\n",
              "      --hover-fill-color: #FFFFFF;\n",
              "      --disabled-bg-color: #3B4455;\n",
              "      --disabled-fill-color: #666;\n",
              "  }\n",
              "\n",
              "  .colab-df-quickchart {\n",
              "    background-color: var(--bg-color);\n",
              "    border: none;\n",
              "    border-radius: 50%;\n",
              "    cursor: pointer;\n",
              "    display: none;\n",
              "    fill: var(--fill-color);\n",
              "    height: 32px;\n",
              "    padding: 0;\n",
              "    width: 32px;\n",
              "  }\n",
              "\n",
              "  .colab-df-quickchart:hover {\n",
              "    background-color: var(--hover-bg-color);\n",
              "    box-shadow: 0 1px 2px rgba(60, 64, 67, 0.3), 0 1px 3px 1px rgba(60, 64, 67, 0.15);\n",
              "    fill: var(--button-hover-fill-color);\n",
              "  }\n",
              "\n",
              "  .colab-df-quickchart-complete:disabled,\n",
              "  .colab-df-quickchart-complete:disabled:hover {\n",
              "    background-color: var(--disabled-bg-color);\n",
              "    fill: var(--disabled-fill-color);\n",
              "    box-shadow: none;\n",
              "  }\n",
              "\n",
              "  .colab-df-spinner {\n",
              "    border: 2px solid var(--fill-color);\n",
              "    border-color: transparent;\n",
              "    border-bottom-color: var(--fill-color);\n",
              "    animation:\n",
              "      spin 1s steps(1) infinite;\n",
              "  }\n",
              "\n",
              "  @keyframes spin {\n",
              "    0% {\n",
              "      border-color: transparent;\n",
              "      border-bottom-color: var(--fill-color);\n",
              "      border-left-color: var(--fill-color);\n",
              "    }\n",
              "    20% {\n",
              "      border-color: transparent;\n",
              "      border-left-color: var(--fill-color);\n",
              "      border-top-color: var(--fill-color);\n",
              "    }\n",
              "    30% {\n",
              "      border-color: transparent;\n",
              "      border-left-color: var(--fill-color);\n",
              "      border-top-color: var(--fill-color);\n",
              "      border-right-color: var(--fill-color);\n",
              "    }\n",
              "    40% {\n",
              "      border-color: transparent;\n",
              "      border-right-color: var(--fill-color);\n",
              "      border-top-color: var(--fill-color);\n",
              "    }\n",
              "    60% {\n",
              "      border-color: transparent;\n",
              "      border-right-color: var(--fill-color);\n",
              "    }\n",
              "    80% {\n",
              "      border-color: transparent;\n",
              "      border-right-color: var(--fill-color);\n",
              "      border-bottom-color: var(--fill-color);\n",
              "    }\n",
              "    90% {\n",
              "      border-color: transparent;\n",
              "      border-bottom-color: var(--fill-color);\n",
              "    }\n",
              "  }\n",
              "</style>\n",
              "\n",
              "      <script>\n",
              "        async function quickchart(key) {\n",
              "          const quickchartButtonEl =\n",
              "            document.querySelector('#' + key + ' button');\n",
              "          quickchartButtonEl.disabled = true;  // To prevent multiple clicks.\n",
              "          quickchartButtonEl.classList.add('colab-df-spinner');\n",
              "          try {\n",
              "            const charts = await google.colab.kernel.invokeFunction(\n",
              "                'suggestCharts', [key], {});\n",
              "          } catch (error) {\n",
              "            console.error('Error during call to suggestCharts:', error);\n",
              "          }\n",
              "          quickchartButtonEl.classList.remove('colab-df-spinner');\n",
              "          quickchartButtonEl.classList.add('colab-df-quickchart-complete');\n",
              "        }\n",
              "        (() => {\n",
              "          let quickchartButtonEl =\n",
              "            document.querySelector('#df-f72713be-cb8a-4ab0-9f5b-b6ca3e4da6fb button');\n",
              "          quickchartButtonEl.style.display =\n",
              "            google.colab.kernel.accessAllowed ? 'block' : 'none';\n",
              "        })();\n",
              "      </script>\n",
              "    </div>\n",
              "\n",
              "  <div id=\"id_f5ecb1e9-1217-4894-8463-e118993c98b9\">\n",
              "    <style>\n",
              "      .colab-df-generate {\n",
              "        background-color: #E8F0FE;\n",
              "        border: none;\n",
              "        border-radius: 50%;\n",
              "        cursor: pointer;\n",
              "        display: none;\n",
              "        fill: #1967D2;\n",
              "        height: 32px;\n",
              "        padding: 0 0 0 0;\n",
              "        width: 32px;\n",
              "      }\n",
              "\n",
              "      .colab-df-generate:hover {\n",
              "        background-color: #E2EBFA;\n",
              "        box-shadow: 0px 1px 2px rgba(60, 64, 67, 0.3), 0px 1px 3px 1px rgba(60, 64, 67, 0.15);\n",
              "        fill: #174EA6;\n",
              "      }\n",
              "\n",
              "      [theme=dark] .colab-df-generate {\n",
              "        background-color: #3B4455;\n",
              "        fill: #D2E3FC;\n",
              "      }\n",
              "\n",
              "      [theme=dark] .colab-df-generate:hover {\n",
              "        background-color: #434B5C;\n",
              "        box-shadow: 0px 1px 3px 1px rgba(0, 0, 0, 0.15);\n",
              "        filter: drop-shadow(0px 1px 2px rgba(0, 0, 0, 0.3));\n",
              "        fill: #FFFFFF;\n",
              "      }\n",
              "    </style>\n",
              "    <button class=\"colab-df-generate\" onclick=\"generateWithVariable('top10_customers')\"\n",
              "            title=\"Generate code using this dataframe.\"\n",
              "            style=\"display:none;\">\n",
              "\n",
              "  <svg xmlns=\"http://www.w3.org/2000/svg\" height=\"24px\"viewBox=\"0 0 24 24\"\n",
              "       width=\"24px\">\n",
              "    <path d=\"M7,19H8.4L18.45,9,17,7.55,7,17.6ZM5,21V16.75L18.45,3.32a2,2,0,0,1,2.83,0l1.4,1.43a1.91,1.91,0,0,1,.58,1.4,1.91,1.91,0,0,1-.58,1.4L9.25,21ZM18.45,9,17,7.55Zm-12,3A5.31,5.31,0,0,0,4.9,8.1,5.31,5.31,0,0,0,1,6.5,5.31,5.31,0,0,0,4.9,4.9,5.31,5.31,0,0,0,6.5,1,5.31,5.31,0,0,0,8.1,4.9,5.31,5.31,0,0,0,12,6.5,5.46,5.46,0,0,0,6.5,12Z\"/>\n",
              "  </svg>\n",
              "    </button>\n",
              "    <script>\n",
              "      (() => {\n",
              "      const buttonEl =\n",
              "        document.querySelector('#id_f5ecb1e9-1217-4894-8463-e118993c98b9 button.colab-df-generate');\n",
              "      buttonEl.style.display =\n",
              "        google.colab.kernel.accessAllowed ? 'block' : 'none';\n",
              "\n",
              "      buttonEl.onclick = () => {\n",
              "        google.colab.notebook.generateWithVariable('top10_customers');\n",
              "      }\n",
              "      })();\n",
              "    </script>\n",
              "  </div>\n",
              "\n",
              "    </div>\n",
              "  </div>\n"
            ],
            "application/vnd.google.colaboratory.intrinsic+json": {
              "type": "dataframe",
              "variable_name": "top10_customers",
              "summary": "{\n  \"name\": \"top10_customers\",\n  \"rows\": 10,\n  \"fields\": [\n    {\n      \"column\": \"Country\",\n      \"properties\": {\n        \"dtype\": \"string\",\n        \"num_unique_values\": 10,\n        \"samples\": [\n          \"Czech Republic\",\n          \"Canada\",\n          \"United Kingdom\"\n        ],\n        \"semantic_type\": \"\",\n        \"description\": \"\"\n      }\n    },\n    {\n      \"column\": \"CustomerCount\",\n      \"properties\": {\n        \"dtype\": \"number\",\n        \"std\": 3,\n        \"min\": 1,\n        \"max\": 13,\n        \"num_unique_values\": 7,\n        \"samples\": [\n          13,\n          8,\n          2\n        ],\n        \"semantic_type\": \"\",\n        \"description\": \"\"\n      }\n    }\n  ]\n}"
            }
          },
          "metadata": {},
          "execution_count": 36
        }
      ]
    },
    {
      "cell_type": "code",
      "source": [
        "plt.figure(figsize=(10,6))\n",
        "\n",
        "# Bar plot\n",
        "plt.barh(top10_customers['Country'], top10_customers['CustomerCount'], color='teal')\n",
        "plt.gca().invert_yaxis()\n",
        "\n",
        "# Labels and title\n",
        "plt.xlabel(\"Number of Customers\")\n",
        "plt.ylabel(\"Country\")\n",
        "plt.title(\"Top 10 Countries by Number of Customers\")\n",
        "\n",
        "plt.tight_layout()\n",
        "plt.show()\n"
      ],
      "metadata": {
        "colab": {
          "base_uri": "https://localhost:8080/",
          "height": 494
        },
        "id": "OmdW92HGGd1x",
        "outputId": "b4543a20-ba31-4dbe-eef4-dd6ca75fd8aa"
      },
      "execution_count": null,
      "outputs": [
        {
          "output_type": "display_data",
          "data": {
            "text/plain": [
              "<Figure size 1000x600 with 1 Axes>"
            ],
            "image/png": "[encoded data removed]"
          },
          "metadata": {}
        }
      ]
    },
    {
      "cell_type": "markdown",
      "source": [
        "### Extra credit"
      ],
      "metadata": {
        "id": "6o4wzFS1ScJb"
      }
    },
    {
      "cell_type": "code",
      "source": [
        "# CTE for total sales by customer\n",
        "%%script sqlite3 --column --header chinook.db\n",
        "\n",
        "WITH CustomerSales AS (\n",
        "    SELECT CustomerId, SUM(Total) AS TotalSpent\n",
        "    FROM Invoices\n",
        "    GROUP BY CustomerId\n",
        ")\n",
        "SELECT cs.CustomerId, c.FirstName, c.LastName, cs.TotalSpent\n",
        "FROM CustomerSales cs\n",
        "JOIN Customers c ON cs.CustomerId = c.CustomerId\n",
        "ORDER BY cs.TotalSpent DESC\n",
        "LIMIT 5;\n"
      ],
      "metadata": {
        "colab": {
          "base_uri": "https://localhost:8080/"
        },
        "id": "bn8lF3HfGC0h",
        "outputId": "b83e7570-e446-489e-d8c8-e57a665f4a50"
      },
      "execution_count": null,
      "outputs": [
        {
          "output_type": "stream",
          "name": "stdout",
          "text": [
            "CustomerId  FirstName  LastName    TotalSpent\n",
            "----------  ---------  ----------  ----------\n",
            "6           Helena     Holý        49.62     \n",
            "26          Richard    Cunningham  47.62     \n",
            "57          Luis       Rojas       46.62     \n",
            "45          Ladislav   Kovács      45.62     \n",
            "46          Hugh       O'Reilly    45.62     \n"
          ]
        }
      ]
    },
    {
      "cell_type": "code",
      "source": [
        "# Join Customers and Invoices tables\n",
        "%%script sqlite3 --column --header chinook.db\n",
        "\n",
        "SELECT Customers.CustomerId,\n",
        "       Customers.FirstName,\n",
        "       Customers.LastName,\n",
        "       Invoices.InvoiceId,\n",
        "       Invoices.Total,\n",
        "       Invoices.InvoiceDate\n",
        "FROM Customers\n",
        "JOIN Invoices\n",
        "  ON Customers.CustomerId = Invoices.CustomerId\n",
        "LIMIT 10;\n"
      ],
      "metadata": {
        "colab": {
          "base_uri": "https://localhost:8080/"
        },
        "id": "odqQxcFbK_Kw",
        "outputId": "9c2e38fd-4f0f-4508-b998-4f667bc11684"
      },
      "execution_count": null,
      "outputs": [
        {
          "output_type": "stream",
          "name": "stdout",
          "text": [
            "CustomerId  FirstName  LastName   InvoiceId  Total  InvoiceDate        \n",
            "----------  ---------  ---------  ---------  -----  -------------------\n",
            "1           Luís       Gonçalves  98         3.98   2010-03-11 00:00:00\n",
            "1           Luís       Gonçalves  121        3.96   2010-06-13 00:00:00\n",
            "1           Luís       Gonçalves  143        5.94   2010-09-15 00:00:00\n",
            "1           Luís       Gonçalves  195        0.99   2011-05-06 00:00:00\n",
            "1           Luís       Gonçalves  316        1.98   2012-10-27 00:00:00\n",
            "1           Luís       Gonçalves  327        13.86  2012-12-07 00:00:00\n",
            "1           Luís       Gonçalves  382        8.91   2013-08-07 00:00:00\n",
            "2           Leonie     Köhler     1          1.98   2009-01-01 00:00:00\n",
            "2           Leonie     Köhler     12         13.86  2009-02-11 00:00:00\n",
            "2           Leonie     Köhler     67         8.91   2009-10-12 00:00:00\n"
          ]
        }
      ]
    },
    {
      "cell_type": "code",
      "source": [
        "# Imports\n",
        "\n",
        "import matplotlib.pyplot as plt\n",
        "import seaborn as sns\n",
        "\n",
        "# Connect to Chinook DB and load data\n",
        "conn = db.connect(\"chinook.db\")\n",
        "\n",
        "query = \"\"\"\n",
        "SELECT\n",
        "  BillingCountry,\n",
        "  InvoiceDate,\n",
        "  Total\n",
        "FROM Invoices;\n",
        "\"\"\"\n",
        "\n",
        "df = pd.read_sql_query(query, conn)\n",
        "conn.close()\n",
        "\n",
        "# Parse date, extract month\n",
        "df['InvoiceDate'] = pd.to_datetime(df['InvoiceDate'])\n",
        "df['InvoiceMonth'] = df['InvoiceDate'].dt.month\n",
        "\n",
        "# Group by Country and Month, then pivot\n",
        "pivot_table = df.groupby(['BillingCountry', 'InvoiceMonth'])['Total'].sum().unstack(fill_value=0)\n",
        "\n",
        "# Heatmap\n",
        "plt.figure(figsize=(12,8))\n",
        "sns.heatmap(pivot_table, annot=True, fmt=\".2f\", cmap=\"YlGnBu\", linewidths=0.5)\n",
        "plt.title(\"Total Invoice Amounts by Country and Month\")\n",
        "plt.xlabel(\"Invoice Month\")\n",
        "plt.ylabel(\"Billing Country\")\n",
        "plt.tight_layout()\n",
        "plt.show()\n"
      ],
      "metadata": {
        "colab": {
          "base_uri": "https://localhost:8080/",
          "height": 593
        },
        "id": "Vg72FhlqSZL5",
        "outputId": "f44207ff-b264-420c-8cbc-904c1fcf623b"
      },
      "execution_count": null,
      "outputs": [
        {
          "output_type": "display_data",
          "data": {
            "text/plain": [
              "<Figure size 1200x800 with 2 Axes>"
            ],
            "image/png": "[encoded data removed]"
          },
          "metadata": {}
        }
      ]
    },
    {
      "cell_type": "code",
      "source": [],
      "metadata": {
        "id": "p_s36MmJY4tZ"
      },
      "execution_count": null,
      "outputs": []
    }
  ],
  "metadata": {
    "colab": {
      "provenance": [],
      "include_colab_link": true
    },
    "kernelspec": {
      "display_name": "Python 3",
      "name": "python3"
    },
    "language_info": {
      "name": "python"
    }
  },
  "nbformat": 4,
  "nbformat_minor": 0
}